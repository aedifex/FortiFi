{
  "cells": [
    {
      "cell_type": "markdown",
      "metadata": {
        "id": "i8Ce0ap-jOvi"
      },
      "source": [
        "# Libraries."
      ]
    },
    {
      "cell_type": "code",
      "execution_count": null,
      "metadata": {
        "colab": {
          "base_uri": "https://localhost:8080/"
        },
        "id": "1pBnbKdDSCS5",
        "outputId": "933aa618-3aa8-4e22-f207-0caa0c9bdf3f"
      },
      "outputs": [
        {
          "output_type": "stream",
          "name": "stdout",
          "text": [
            "Collecting xgboost\n",
            "  Downloading xgboost-3.0.0-py3-none-manylinux_2_28_x86_64.whl.metadata (2.1 kB)\n",
            "Requirement already satisfied: numpy in /usr/local/lib/python3.11/dist-packages (from xgboost) (2.0.2)\n",
            "Collecting nvidia-nccl-cu12 (from xgboost)\n",
            "  Downloading nvidia_nccl_cu12-2.26.2-py3-none-manylinux2014_x86_64.manylinux_2_17_x86_64.whl.metadata (2.0 kB)\n",
            "Requirement already satisfied: scipy in /usr/local/lib/python3.11/dist-packages (from xgboost) (1.14.1)\n",
            "Downloading xgboost-3.0.0-py3-none-manylinux_2_28_x86_64.whl (253.9 MB)\n",
            "\u001b[2K   \u001b[90m━━━━━━━━━━━━━━━━━━━━━━━━━━━━━━━━━━━━━━━━\u001b[0m \u001b[32m253.9/253.9 MB\u001b[0m \u001b[31m3.6 MB/s\u001b[0m eta \u001b[36m0:00:00\u001b[0m\n",
            "\u001b[?25hDownloading nvidia_nccl_cu12-2.26.2-py3-none-manylinux2014_x86_64.manylinux_2_17_x86_64.whl (201.3 MB)\n",
            "\u001b[2K   \u001b[90m━━━━━━━━━━━━━━━━━━━━━━━━━━━━━━━━━━━━━━━━\u001b[0m \u001b[32m201.3/201.3 MB\u001b[0m \u001b[31m5.0 MB/s\u001b[0m eta \u001b[36m0:00:00\u001b[0m\n",
            "\u001b[?25hInstalling collected packages: nvidia-nccl-cu12, xgboost\n",
            "Successfully installed nvidia-nccl-cu12-2.26.2 xgboost-3.0.0\n",
            "Requirement already satisfied: kaggle in /usr/local/lib/python3.11/dist-packages (1.7.4.2)\n",
            "Requirement already satisfied: bleach in /usr/local/lib/python3.11/dist-packages (from kaggle) (6.2.0)\n",
            "Requirement already satisfied: certifi>=14.05.14 in /usr/local/lib/python3.11/dist-packages (from kaggle) (2025.1.31)\n",
            "Requirement already satisfied: charset-normalizer in /usr/local/lib/python3.11/dist-packages (from kaggle) (3.4.1)\n",
            "Requirement already satisfied: idna in /usr/local/lib/python3.11/dist-packages (from kaggle) (3.10)\n",
            "Requirement already satisfied: protobuf in /usr/local/lib/python3.11/dist-packages (from kaggle) (5.29.4)\n",
            "Requirement already satisfied: python-dateutil>=2.5.3 in /usr/local/lib/python3.11/dist-packages (from kaggle) (2.9.0.post0)\n",
            "Requirement already satisfied: python-slugify in /usr/local/lib/python3.11/dist-packages (from kaggle) (8.0.4)\n",
            "Requirement already satisfied: requests in /usr/local/lib/python3.11/dist-packages (from kaggle) (2.32.3)\n",
            "Requirement already satisfied: setuptools>=21.0.0 in /usr/local/lib/python3.11/dist-packages (from kaggle) (75.1.0)\n",
            "Requirement already satisfied: six>=1.10 in /usr/local/lib/python3.11/dist-packages (from kaggle) (1.17.0)\n",
            "Requirement already satisfied: text-unidecode in /usr/local/lib/python3.11/dist-packages (from kaggle) (1.3)\n",
            "Requirement already satisfied: tqdm in /usr/local/lib/python3.11/dist-packages (from kaggle) (4.67.1)\n",
            "Requirement already satisfied: urllib3>=1.15.1 in /usr/local/lib/python3.11/dist-packages (from kaggle) (2.3.0)\n",
            "Requirement already satisfied: webencodings in /usr/local/lib/python3.11/dist-packages (from kaggle) (0.5.1)\n",
            "Collecting imbalanced-learn\n",
            "  Downloading imbalanced_learn-0.13.0-py3-none-any.whl.metadata (8.8 kB)\n",
            "Requirement already satisfied: numpy<3,>=1.24.3 in /usr/local/lib/python3.11/dist-packages (from imbalanced-learn) (2.0.2)\n",
            "Requirement already satisfied: scipy<2,>=1.10.1 in /usr/local/lib/python3.11/dist-packages (from imbalanced-learn) (1.14.1)\n",
            "Requirement already satisfied: scikit-learn<2,>=1.3.2 in /usr/local/lib/python3.11/dist-packages (from imbalanced-learn) (1.6.1)\n",
            "Collecting sklearn-compat<1,>=0.1 (from imbalanced-learn)\n",
            "  Downloading sklearn_compat-0.1.3-py3-none-any.whl.metadata (18 kB)\n",
            "Requirement already satisfied: joblib<2,>=1.1.1 in /usr/local/lib/python3.11/dist-packages (from imbalanced-learn) (1.4.2)\n",
            "Requirement already satisfied: threadpoolctl<4,>=2.0.0 in /usr/local/lib/python3.11/dist-packages (from imbalanced-learn) (3.6.0)\n",
            "Downloading imbalanced_learn-0.13.0-py3-none-any.whl (238 kB)\n",
            "\u001b[2K   \u001b[90m━━━━━━━━━━━━━━━━━━━━━━━━━━━━━━━━━━━━━━━━\u001b[0m \u001b[32m238.4/238.4 kB\u001b[0m \u001b[31m6.0 MB/s\u001b[0m eta \u001b[36m0:00:00\u001b[0m\n",
            "\u001b[?25hDownloading sklearn_compat-0.1.3-py3-none-any.whl (18 kB)\n",
            "Installing collected packages: sklearn-compat, imbalanced-learn\n",
            "Successfully installed imbalanced-learn-0.13.0 sklearn-compat-0.1.3\n",
            "Collecting openai\n",
            "  Downloading openai-1.69.0-py3-none-any.whl.metadata (25 kB)\n",
            "Requirement already satisfied: anyio<5,>=3.5.0 in /usr/local/lib/python3.11/dist-packages (from openai) (4.9.0)\n",
            "Requirement already satisfied: distro<2,>=1.7.0 in /usr/lib/python3/dist-packages (from openai) (1.7.0)\n",
            "Requirement already satisfied: httpx<1,>=0.23.0 in /usr/local/lib/python3.11/dist-packages (from openai) (0.28.1)\n",
            "Collecting jiter<1,>=0.4.0 (from openai)\n",
            "  Downloading jiter-0.9.0-cp311-cp311-manylinux_2_17_x86_64.manylinux2014_x86_64.whl.metadata (5.2 kB)\n",
            "Requirement already satisfied: pydantic<3,>=1.9.0 in /usr/local/lib/python3.11/dist-packages (from openai) (2.10.6)\n",
            "Requirement already satisfied: sniffio in /usr/local/lib/python3.11/dist-packages (from openai) (1.3.1)\n",
            "Requirement already satisfied: tqdm>4 in /usr/local/lib/python3.11/dist-packages (from openai) (4.67.1)\n",
            "Requirement already satisfied: typing-extensions<5,>=4.11 in /usr/local/lib/python3.11/dist-packages (from openai) (4.12.2)\n",
            "Requirement already satisfied: idna>=2.8 in /usr/local/lib/python3.11/dist-packages (from anyio<5,>=3.5.0->openai) (3.10)\n",
            "Requirement already satisfied: certifi in /usr/local/lib/python3.11/dist-packages (from httpx<1,>=0.23.0->openai) (2025.1.31)\n",
            "Requirement already satisfied: httpcore==1.* in /usr/local/lib/python3.11/dist-packages (from httpx<1,>=0.23.0->openai) (1.0.7)\n",
            "Requirement already satisfied: h11<0.15,>=0.13 in /usr/local/lib/python3.11/dist-packages (from httpcore==1.*->httpx<1,>=0.23.0->openai) (0.14.0)\n",
            "Requirement already satisfied: annotated-types>=0.6.0 in /usr/local/lib/python3.11/dist-packages (from pydantic<3,>=1.9.0->openai) (0.7.0)\n",
            "Requirement already satisfied: pydantic-core==2.27.2 in /usr/local/lib/python3.11/dist-packages (from pydantic<3,>=1.9.0->openai) (2.27.2)\n",
            "Downloading openai-1.69.0-py3-none-any.whl (599 kB)\n",
            "\u001b[2K   \u001b[90m━━━━━━━━━━━━━━━━━━━━━━━━━━━━━━━━━━━━━━━━\u001b[0m \u001b[32m599.1/599.1 kB\u001b[0m \u001b[31m10.5 MB/s\u001b[0m eta \u001b[36m0:00:00\u001b[0m\n",
            "\u001b[?25hDownloading jiter-0.9.0-cp311-cp311-manylinux_2_17_x86_64.manylinux2014_x86_64.whl (351 kB)\n",
            "\u001b[2K   \u001b[90m━━━━━━━━━━━━━━━━━━━━━━━━━━━━━━━━━━━━━━━━\u001b[0m \u001b[32m351.8/351.8 kB\u001b[0m \u001b[31m23.9 MB/s\u001b[0m eta \u001b[36m0:00:00\u001b[0m\n",
            "\u001b[?25hInstalling collected packages: jiter, openai\n",
            "Successfully installed jiter-0.9.0 openai-1.69.0\n"
          ]
        }
      ],
      "source": [
        "#Pre-requisite Installation.\n",
        "!pip install xgboost\n",
        "!pip install kaggle\n",
        "!pip install imbalanced-learn\n",
        "!pip install openai"
      ]
    },
    {
      "cell_type": "code",
      "execution_count": null,
      "metadata": {
        "id": "VHuo1nX15vGI"
      },
      "outputs": [],
      "source": [
        "#Import Libraries for file manipulation.\n",
        "import pandas as pd\n",
        "import numpy as np\n",
        "\n",
        "#Import libraries for Data visualization.\n",
        "import seaborn as sns\n",
        "from matplotlib import pyplot as plt\n",
        "\n",
        "#Import libraries for model performance metrics.\n",
        "from sklearn.metrics import classification_report, accuracy_score\n",
        "\n",
        "#Import libraries for model training.\n",
        "from sklearn.model_selection import train_test_split, cross_val_score, StratifiedKFold\n",
        "from imblearn.under_sampling import RandomUnderSampler\n",
        "from sklearn.preprocessing import StandardScaler, RobustScaler, LabelEncoder\n",
        "from sklearn.linear_model import LogisticRegression\n",
        "from xgboost import XGBClassifier\n",
        "from sklearn.ensemble import RandomForestClassifier\n",
        "import joblib\n",
        "\n",
        "#Import libraries for chatGPT integration\n",
        "from openai import OpenAI\n",
        "import os"
      ]
    },
    {
      "cell_type": "markdown",
      "metadata": {
        "id": "50F45QM16Cvu"
      },
      "source": [
        "# Data Exploration\n",
        "This dataset is comprised of 25011003 records and 22 features categorizing activity in network traffic as normal or malicious. The malicious activity can be labeled as Attack, DDoS, Command & Control, Part of Horizaontal Scan, and File Download."
      ]
    },
    {
      "cell_type": "code",
      "execution_count": null,
      "metadata": {
        "colab": {
          "base_uri": "https://localhost:8080/"
        },
        "id": "k6eLWRBV6Ivt",
        "outputId": "3f0f129b-aa76-48d2-b9fe-37e216b3a11a"
      },
      "outputs": [
        {
          "output_type": "stream",
          "name": "stdout",
          "text": [
            "Traceback (most recent call last):\n",
            "  File \"/usr/local/bin/kaggle\", line 10, in <module>\n",
            "    sys.exit(main())\n",
            "             ^^^^^^\n",
            "  File \"/usr/local/lib/python3.11/dist-packages/kaggle/cli.py\", line 68, in main\n",
            "    out = args.func(**command_args)\n",
            "          ^^^^^^^^^^^^^^^^^^^^^^^^^\n",
            "  File \"/usr/local/lib/python3.11/dist-packages/kaggle/api/kaggle_api_extended.py\", line 1734, in dataset_download_cli\n",
            "    with self.build_kaggle_client() as kaggle:\n",
            "         ^^^^^^^^^^^^^^^^^^^^^^^^^^\n",
            "  File \"/usr/local/lib/python3.11/dist-packages/kaggle/api/kaggle_api_extended.py\", line 688, in build_kaggle_client\n",
            "    username=self.config_values['username'],\n",
            "             ~~~~~~~~~~~~~~~~~~^^^^^^^^^^^^\n",
            "KeyError: 'username'\n"
          ]
        }
      ],
      "source": [
        "#Download dataset from Kaggle.\n",
        "! kaggle datasets download agungpambudi/network-malware-detection-connection-analysis"
      ]
    },
    {
      "cell_type": "code",
      "execution_count": null,
      "metadata": {
        "id": "Qwj-rvXn7P5R"
      },
      "outputs": [],
      "source": [
        "#Unzip the dataset zip file and concatenate all csv files into one dataframe, iot_intrusion_dataset.\n",
        "from zipfile import ZipFile\n",
        "\n",
        "zip = ZipFile('/content/network-malware-detection-connection-analysis.zip', 'r')\n",
        "dfs = []\n",
        "for n in zip.namelist():\n",
        "  if n.endswith('.csv'):\n",
        "    chunk_iter = pd.read_csv(zip.open(n), sep='|', header=0, chunksize=10000)\n",
        "    for chunk in chunk_iter:\n",
        "      dfs.append(chunk)\n",
        "zip.close()\n",
        "\n",
        "iot_intrusion_dataset = pd.concat(dfs)\n",
        "\n",
        "#Shuffle dataframe and reset index.\n",
        "iot_intrusion_dataset = iot_intrusion_dataset.sample(frac=1).reset_index(drop=True)"
      ]
    },
    {
      "cell_type": "code",
      "execution_count": null,
      "metadata": {
        "id": "JKow5HRg7e9l",
        "colab": {
          "base_uri": "https://localhost:8080/"
        },
        "outputId": "6bd16cc8-5c8c-4af7-d416-b63cd8525b42"
      },
      "outputs": [
        {
          "output_type": "execute_result",
          "data": {
            "text/plain": [
              "(25011003, 23)"
            ]
          },
          "metadata": {},
          "execution_count": 5
        }
      ],
      "source": [
        "#Print the number of rows and features in the dataset.\n",
        "iot_intrusion_dataset.shape"
      ]
    },
    {
      "cell_type": "code",
      "execution_count": null,
      "metadata": {
        "id": "7GLg5go48E6Q",
        "colab": {
          "base_uri": "https://localhost:8080/"
        },
        "outputId": "aa485e40-260a-4827-d08b-78ab0d2dc08b"
      },
      "outputs": [
        {
          "output_type": "execute_result",
          "data": {
            "text/plain": [
              "             ts                 uid        id.orig_h  id.orig_p  \\\n",
              "0  1.545458e+09  CRpZTx3QpREBLMkU84    192.168.1.196    33602.0   \n",
              "1  1.532527e+09  CsluWx47bsMLEPPlO2  192.168.100.111    56675.0   \n",
              "2  1.545436e+09  CHviE841AgX44xSg0a    192.168.1.196    46128.0   \n",
              "3  1.532563e+09  Cm2xso4ZbrYhknvWbk  192.168.100.111     5135.0   \n",
              "4  1.569018e+09  ClPyQZ2l6aBFqUmp3b    192.168.1.195    22747.0   \n",
              "\n",
              "         id.resp_h  id.resp_p proto service  duration orig_bytes  ...  \\\n",
              "0     119.40.38.73       23.0   tcp       -  3.114746          0  ...   \n",
              "1     39.213.84.34       23.0   tcp       -         -          -  ...   \n",
              "2  159.229.153.210       23.0   tcp       -         -          -  ...   \n",
              "3    147.32.46.208       23.0   tcp       -         -          -  ...   \n",
              "4   162.248.88.215    62336.0   tcp       -         -          -  ...   \n",
              "\n",
              "  local_resp missed_bytes history orig_pkts  orig_ip_bytes resp_pkts  \\\n",
              "0          -          0.0       S       3.0          180.0       0.0   \n",
              "1          -          0.0       S       1.0           40.0       0.0   \n",
              "2          -          0.0       S       1.0           60.0       0.0   \n",
              "3          -          0.0       S       1.0           40.0       0.0   \n",
              "4          -          0.0       C       0.0            0.0       0.0   \n",
              "\n",
              "   resp_ip_bytes  tunnel_parents             label             detailed-label  \n",
              "0            0.0               -            Benign                          -  \n",
              "1            0.0               -         Malicious  PartOfAHorizontalPortScan  \n",
              "2            0.0               -            Benign                          -  \n",
              "3            0.0               -         Malicious  PartOfAHorizontalPortScan  \n",
              "4            0.0               -  Malicious   DDoS                        NaN  \n",
              "\n",
              "[5 rows x 23 columns]"
            ],
            "text/html": [
              "\n",
              "  <div id=\"df-34926db5-deb8-41c1-a27f-60138af9b5f3\" class=\"colab-df-container\">\n",
              "    <div>\n",
              "<style scoped>\n",
              "    .dataframe tbody tr th:only-of-type {\n",
              "        vertical-align: middle;\n",
              "    }\n",
              "\n",
              "    .dataframe tbody tr th {\n",
              "        vertical-align: top;\n",
              "    }\n",
              "\n",
              "    .dataframe thead th {\n",
              "        text-align: right;\n",
              "    }\n",
              "</style>\n",
              "<table border=\"1\" class=\"dataframe\">\n",
              "  <thead>\n",
              "    <tr style=\"text-align: right;\">\n",
              "      <th></th>\n",
              "      <th>ts</th>\n",
              "      <th>uid</th>\n",
              "      <th>id.orig_h</th>\n",
              "      <th>id.orig_p</th>\n",
              "      <th>id.resp_h</th>\n",
              "      <th>id.resp_p</th>\n",
              "      <th>proto</th>\n",
              "      <th>service</th>\n",
              "      <th>duration</th>\n",
              "      <th>orig_bytes</th>\n",
              "      <th>...</th>\n",
              "      <th>local_resp</th>\n",
              "      <th>missed_bytes</th>\n",
              "      <th>history</th>\n",
              "      <th>orig_pkts</th>\n",
              "      <th>orig_ip_bytes</th>\n",
              "      <th>resp_pkts</th>\n",
              "      <th>resp_ip_bytes</th>\n",
              "      <th>tunnel_parents</th>\n",
              "      <th>label</th>\n",
              "      <th>detailed-label</th>\n",
              "    </tr>\n",
              "  </thead>\n",
              "  <tbody>\n",
              "    <tr>\n",
              "      <th>0</th>\n",
              "      <td>1.545458e+09</td>\n",
              "      <td>CRpZTx3QpREBLMkU84</td>\n",
              "      <td>192.168.1.196</td>\n",
              "      <td>33602.0</td>\n",
              "      <td>119.40.38.73</td>\n",
              "      <td>23.0</td>\n",
              "      <td>tcp</td>\n",
              "      <td>-</td>\n",
              "      <td>3.114746</td>\n",
              "      <td>0</td>\n",
              "      <td>...</td>\n",
              "      <td>-</td>\n",
              "      <td>0.0</td>\n",
              "      <td>S</td>\n",
              "      <td>3.0</td>\n",
              "      <td>180.0</td>\n",
              "      <td>0.0</td>\n",
              "      <td>0.0</td>\n",
              "      <td>-</td>\n",
              "      <td>Benign</td>\n",
              "      <td>-</td>\n",
              "    </tr>\n",
              "    <tr>\n",
              "      <th>1</th>\n",
              "      <td>1.532527e+09</td>\n",
              "      <td>CsluWx47bsMLEPPlO2</td>\n",
              "      <td>192.168.100.111</td>\n",
              "      <td>56675.0</td>\n",
              "      <td>39.213.84.34</td>\n",
              "      <td>23.0</td>\n",
              "      <td>tcp</td>\n",
              "      <td>-</td>\n",
              "      <td>-</td>\n",
              "      <td>-</td>\n",
              "      <td>...</td>\n",
              "      <td>-</td>\n",
              "      <td>0.0</td>\n",
              "      <td>S</td>\n",
              "      <td>1.0</td>\n",
              "      <td>40.0</td>\n",
              "      <td>0.0</td>\n",
              "      <td>0.0</td>\n",
              "      <td>-</td>\n",
              "      <td>Malicious</td>\n",
              "      <td>PartOfAHorizontalPortScan</td>\n",
              "    </tr>\n",
              "    <tr>\n",
              "      <th>2</th>\n",
              "      <td>1.545436e+09</td>\n",
              "      <td>CHviE841AgX44xSg0a</td>\n",
              "      <td>192.168.1.196</td>\n",
              "      <td>46128.0</td>\n",
              "      <td>159.229.153.210</td>\n",
              "      <td>23.0</td>\n",
              "      <td>tcp</td>\n",
              "      <td>-</td>\n",
              "      <td>-</td>\n",
              "      <td>-</td>\n",
              "      <td>...</td>\n",
              "      <td>-</td>\n",
              "      <td>0.0</td>\n",
              "      <td>S</td>\n",
              "      <td>1.0</td>\n",
              "      <td>60.0</td>\n",
              "      <td>0.0</td>\n",
              "      <td>0.0</td>\n",
              "      <td>-</td>\n",
              "      <td>Benign</td>\n",
              "      <td>-</td>\n",
              "    </tr>\n",
              "    <tr>\n",
              "      <th>3</th>\n",
              "      <td>1.532563e+09</td>\n",
              "      <td>Cm2xso4ZbrYhknvWbk</td>\n",
              "      <td>192.168.100.111</td>\n",
              "      <td>5135.0</td>\n",
              "      <td>147.32.46.208</td>\n",
              "      <td>23.0</td>\n",
              "      <td>tcp</td>\n",
              "      <td>-</td>\n",
              "      <td>-</td>\n",
              "      <td>-</td>\n",
              "      <td>...</td>\n",
              "      <td>-</td>\n",
              "      <td>0.0</td>\n",
              "      <td>S</td>\n",
              "      <td>1.0</td>\n",
              "      <td>40.0</td>\n",
              "      <td>0.0</td>\n",
              "      <td>0.0</td>\n",
              "      <td>-</td>\n",
              "      <td>Malicious</td>\n",
              "      <td>PartOfAHorizontalPortScan</td>\n",
              "    </tr>\n",
              "    <tr>\n",
              "      <th>4</th>\n",
              "      <td>1.569018e+09</td>\n",
              "      <td>ClPyQZ2l6aBFqUmp3b</td>\n",
              "      <td>192.168.1.195</td>\n",
              "      <td>22747.0</td>\n",
              "      <td>162.248.88.215</td>\n",
              "      <td>62336.0</td>\n",
              "      <td>tcp</td>\n",
              "      <td>-</td>\n",
              "      <td>-</td>\n",
              "      <td>-</td>\n",
              "      <td>...</td>\n",
              "      <td>-</td>\n",
              "      <td>0.0</td>\n",
              "      <td>C</td>\n",
              "      <td>0.0</td>\n",
              "      <td>0.0</td>\n",
              "      <td>0.0</td>\n",
              "      <td>0.0</td>\n",
              "      <td>-</td>\n",
              "      <td>Malicious   DDoS</td>\n",
              "      <td>NaN</td>\n",
              "    </tr>\n",
              "  </tbody>\n",
              "</table>\n",
              "<p>5 rows × 23 columns</p>\n",
              "</div>\n",
              "    <div class=\"colab-df-buttons\">\n",
              "\n",
              "  <div class=\"colab-df-container\">\n",
              "    <button class=\"colab-df-convert\" onclick=\"convertToInteractive('df-34926db5-deb8-41c1-a27f-60138af9b5f3')\"\n",
              "            title=\"Convert this dataframe to an interactive table.\"\n",
              "            style=\"display:none;\">\n",
              "\n",
              "  <svg xmlns=\"http://www.w3.org/2000/svg\" height=\"24px\" viewBox=\"0 -960 960 960\">\n",
              "    <path d=\"M120-120v-720h720v720H120Zm60-500h600v-160H180v160Zm220 220h160v-160H400v160Zm0 220h160v-160H400v160ZM180-400h160v-160H180v160Zm440 0h160v-160H620v160ZM180-180h160v-160H180v160Zm440 0h160v-160H620v160Z\"/>\n",
              "  </svg>\n",
              "    </button>\n",
              "\n",
              "  <style>\n",
              "    .colab-df-container {\n",
              "      display:flex;\n",
              "      gap: 12px;\n",
              "    }\n",
              "\n",
              "    .colab-df-convert {\n",
              "      background-color: #E8F0FE;\n",
              "      border: none;\n",
              "      border-radius: 50%;\n",
              "      cursor: pointer;\n",
              "      display: none;\n",
              "      fill: #1967D2;\n",
              "      height: 32px;\n",
              "      padding: 0 0 0 0;\n",
              "      width: 32px;\n",
              "    }\n",
              "\n",
              "    .colab-df-convert:hover {\n",
              "      background-color: #E2EBFA;\n",
              "      box-shadow: 0px 1px 2px rgba(60, 64, 67, 0.3), 0px 1px 3px 1px rgba(60, 64, 67, 0.15);\n",
              "      fill: #174EA6;\n",
              "    }\n",
              "\n",
              "    .colab-df-buttons div {\n",
              "      margin-bottom: 4px;\n",
              "    }\n",
              "\n",
              "    [theme=dark] .colab-df-convert {\n",
              "      background-color: #3B4455;\n",
              "      fill: #D2E3FC;\n",
              "    }\n",
              "\n",
              "    [theme=dark] .colab-df-convert:hover {\n",
              "      background-color: #434B5C;\n",
              "      box-shadow: 0px 1px 3px 1px rgba(0, 0, 0, 0.15);\n",
              "      filter: drop-shadow(0px 1px 2px rgba(0, 0, 0, 0.3));\n",
              "      fill: #FFFFFF;\n",
              "    }\n",
              "  </style>\n",
              "\n",
              "    <script>\n",
              "      const buttonEl =\n",
              "        document.querySelector('#df-34926db5-deb8-41c1-a27f-60138af9b5f3 button.colab-df-convert');\n",
              "      buttonEl.style.display =\n",
              "        google.colab.kernel.accessAllowed ? 'block' : 'none';\n",
              "\n",
              "      async function convertToInteractive(key) {\n",
              "        const element = document.querySelector('#df-34926db5-deb8-41c1-a27f-60138af9b5f3');\n",
              "        const dataTable =\n",
              "          await google.colab.kernel.invokeFunction('convertToInteractive',\n",
              "                                                    [key], {});\n",
              "        if (!dataTable) return;\n",
              "\n",
              "        const docLinkHtml = 'Like what you see? Visit the ' +\n",
              "          '<a target=\"_blank\" href=https://colab.research.google.com/notebooks/data_table.ipynb>data table notebook</a>'\n",
              "          + ' to learn more about interactive tables.';\n",
              "        element.innerHTML = '';\n",
              "        dataTable['output_type'] = 'display_data';\n",
              "        await google.colab.output.renderOutput(dataTable, element);\n",
              "        const docLink = document.createElement('div');\n",
              "        docLink.innerHTML = docLinkHtml;\n",
              "        element.appendChild(docLink);\n",
              "      }\n",
              "    </script>\n",
              "  </div>\n",
              "\n",
              "\n",
              "<div id=\"df-e7b8c19f-bea5-4b87-9818-01b341eb6136\">\n",
              "  <button class=\"colab-df-quickchart\" onclick=\"quickchart('df-e7b8c19f-bea5-4b87-9818-01b341eb6136')\"\n",
              "            title=\"Suggest charts\"\n",
              "            style=\"display:none;\">\n",
              "\n",
              "<svg xmlns=\"http://www.w3.org/2000/svg\" height=\"24px\"viewBox=\"0 0 24 24\"\n",
              "     width=\"24px\">\n",
              "    <g>\n",
              "        <path d=\"M19 3H5c-1.1 0-2 .9-2 2v14c0 1.1.9 2 2 2h14c1.1 0 2-.9 2-2V5c0-1.1-.9-2-2-2zM9 17H7v-7h2v7zm4 0h-2V7h2v10zm4 0h-2v-4h2v4z\"/>\n",
              "    </g>\n",
              "</svg>\n",
              "  </button>\n",
              "\n",
              "<style>\n",
              "  .colab-df-quickchart {\n",
              "      --bg-color: #E8F0FE;\n",
              "      --fill-color: #1967D2;\n",
              "      --hover-bg-color: #E2EBFA;\n",
              "      --hover-fill-color: #174EA6;\n",
              "      --disabled-fill-color: #AAA;\n",
              "      --disabled-bg-color: #DDD;\n",
              "  }\n",
              "\n",
              "  [theme=dark] .colab-df-quickchart {\n",
              "      --bg-color: #3B4455;\n",
              "      --fill-color: #D2E3FC;\n",
              "      --hover-bg-color: #434B5C;\n",
              "      --hover-fill-color: #FFFFFF;\n",
              "      --disabled-bg-color: #3B4455;\n",
              "      --disabled-fill-color: #666;\n",
              "  }\n",
              "\n",
              "  .colab-df-quickchart {\n",
              "    background-color: var(--bg-color);\n",
              "    border: none;\n",
              "    border-radius: 50%;\n",
              "    cursor: pointer;\n",
              "    display: none;\n",
              "    fill: var(--fill-color);\n",
              "    height: 32px;\n",
              "    padding: 0;\n",
              "    width: 32px;\n",
              "  }\n",
              "\n",
              "  .colab-df-quickchart:hover {\n",
              "    background-color: var(--hover-bg-color);\n",
              "    box-shadow: 0 1px 2px rgba(60, 64, 67, 0.3), 0 1px 3px 1px rgba(60, 64, 67, 0.15);\n",
              "    fill: var(--button-hover-fill-color);\n",
              "  }\n",
              "\n",
              "  .colab-df-quickchart-complete:disabled,\n",
              "  .colab-df-quickchart-complete:disabled:hover {\n",
              "    background-color: var(--disabled-bg-color);\n",
              "    fill: var(--disabled-fill-color);\n",
              "    box-shadow: none;\n",
              "  }\n",
              "\n",
              "  .colab-df-spinner {\n",
              "    border: 2px solid var(--fill-color);\n",
              "    border-color: transparent;\n",
              "    border-bottom-color: var(--fill-color);\n",
              "    animation:\n",
              "      spin 1s steps(1) infinite;\n",
              "  }\n",
              "\n",
              "  @keyframes spin {\n",
              "    0% {\n",
              "      border-color: transparent;\n",
              "      border-bottom-color: var(--fill-color);\n",
              "      border-left-color: var(--fill-color);\n",
              "    }\n",
              "    20% {\n",
              "      border-color: transparent;\n",
              "      border-left-color: var(--fill-color);\n",
              "      border-top-color: var(--fill-color);\n",
              "    }\n",
              "    30% {\n",
              "      border-color: transparent;\n",
              "      border-left-color: var(--fill-color);\n",
              "      border-top-color: var(--fill-color);\n",
              "      border-right-color: var(--fill-color);\n",
              "    }\n",
              "    40% {\n",
              "      border-color: transparent;\n",
              "      border-right-color: var(--fill-color);\n",
              "      border-top-color: var(--fill-color);\n",
              "    }\n",
              "    60% {\n",
              "      border-color: transparent;\n",
              "      border-right-color: var(--fill-color);\n",
              "    }\n",
              "    80% {\n",
              "      border-color: transparent;\n",
              "      border-right-color: var(--fill-color);\n",
              "      border-bottom-color: var(--fill-color);\n",
              "    }\n",
              "    90% {\n",
              "      border-color: transparent;\n",
              "      border-bottom-color: var(--fill-color);\n",
              "    }\n",
              "  }\n",
              "</style>\n",
              "\n",
              "  <script>\n",
              "    async function quickchart(key) {\n",
              "      const quickchartButtonEl =\n",
              "        document.querySelector('#' + key + ' button');\n",
              "      quickchartButtonEl.disabled = true;  // To prevent multiple clicks.\n",
              "      quickchartButtonEl.classList.add('colab-df-spinner');\n",
              "      try {\n",
              "        const charts = await google.colab.kernel.invokeFunction(\n",
              "            'suggestCharts', [key], {});\n",
              "      } catch (error) {\n",
              "        console.error('Error during call to suggestCharts:', error);\n",
              "      }\n",
              "      quickchartButtonEl.classList.remove('colab-df-spinner');\n",
              "      quickchartButtonEl.classList.add('colab-df-quickchart-complete');\n",
              "    }\n",
              "    (() => {\n",
              "      let quickchartButtonEl =\n",
              "        document.querySelector('#df-e7b8c19f-bea5-4b87-9818-01b341eb6136 button');\n",
              "      quickchartButtonEl.style.display =\n",
              "        google.colab.kernel.accessAllowed ? 'block' : 'none';\n",
              "    })();\n",
              "  </script>\n",
              "</div>\n",
              "\n",
              "    </div>\n",
              "  </div>\n"
            ],
            "application/vnd.google.colaboratory.intrinsic+json": {
              "type": "dataframe",
              "variable_name": "iot_intrusion_dataset"
            }
          },
          "metadata": {},
          "execution_count": 6
        }
      ],
      "source": [
        "#Print the first five records in the dataset.\n",
        "iot_intrusion_dataset.head()"
      ]
    },
    {
      "cell_type": "code",
      "execution_count": null,
      "metadata": {
        "id": "Zb07k-TH4ahv",
        "colab": {
          "base_uri": "https://localhost:8080/"
        },
        "outputId": "08707e0e-7904-45d0-c602-2d722d326e94"
      },
      "outputs": [
        {
          "output_type": "stream",
          "name": "stdout",
          "text": [
            "Index(['ts', 'uid', 'id.orig_h', 'id.orig_p', 'id.resp_h', 'id.resp_p',\n",
            "       'proto', 'service', 'duration', 'orig_bytes', 'resp_bytes',\n",
            "       'conn_state', 'local_orig', 'local_resp', 'missed_bytes', 'history',\n",
            "       'orig_pkts', 'orig_ip_bytes', 'resp_pkts', 'resp_ip_bytes',\n",
            "       'tunnel_parents', 'label', 'detailed-label'],\n",
            "      dtype='object')\n"
          ]
        }
      ],
      "source": [
        "#Print the columns/features of the dataset.\n",
        "print(iot_intrusion_dataset.columns)"
      ]
    },
    {
      "cell_type": "code",
      "execution_count": null,
      "metadata": {
        "id": "ei-b29XkTvn4",
        "colab": {
          "base_uri": "https://localhost:8080/"
        },
        "outputId": "78b6f3f9-536f-46f7-f49e-161b96d27c46"
      },
      "outputs": [
        {
          "output_type": "execute_result",
          "data": {
            "text/plain": [
              "array(['Benign', 'Malicious', 'Malicious   DDoS',\n",
              "       'Malicious   PartOfAHorizontalPortScan', 'Malicious   Attack',\n",
              "       'Malicious   C&C', 'Malicious   FileDownload'], dtype=object)"
            ]
          },
          "metadata": {},
          "execution_count": 8
        }
      ],
      "source": [
        "#Print the unique labels in the dataset.\n",
        "iot_intrusion_dataset[\"label\"].unique()"
      ]
    },
    {
      "cell_type": "code",
      "execution_count": null,
      "metadata": {
        "id": "umZK3momNC2y",
        "colab": {
          "base_uri": "https://localhost:8080/"
        },
        "outputId": "d58355db-c344-4224-89f7-a27fe6ec76a0"
      },
      "outputs": [
        {
          "output_type": "stream",
          "name": "stdout",
          "text": [
            "label\n",
            "Benign                                   8780158\n",
            "Malicious                                7055007\n",
            "Malicious   DDoS                         5778154\n",
            "Malicious   PartOfAHorizontalPortScan    3386241\n",
            "Malicious   C&C                             8685\n",
            "Malicious   Attack                          2755\n",
            "Malicious   FileDownload                       3\n",
            "Name: count, dtype: int64\n"
          ]
        }
      ],
      "source": [
        "#Print count of records associated with each label in the dataset.\n",
        "label_count = iot_intrusion_dataset['label'].value_counts()\n",
        "print(label_count)"
      ]
    },
    {
      "cell_type": "code",
      "execution_count": null,
      "metadata": {
        "id": "a5xsVcMfMivt",
        "colab": {
          "base_uri": "https://localhost:8080/"
        },
        "outputId": "c2a6d2a8-6bac-4d56-ef59-0e239c698172"
      },
      "outputs": [
        {
          "output_type": "execute_result",
          "data": {
            "text/plain": [
              "array(['-', 'PartOfAHorizontalPortScan', nan, 'Attack', 'HeartBeat',\n",
              "       'C&C', 'Torii', 'FileDownload'], dtype=object)"
            ]
          },
          "metadata": {},
          "execution_count": 10
        }
      ],
      "source": [
        "#Print the unique detailed labels in the dataset.\n",
        "iot_intrusion_dataset[\"detailed-label\"].unique()"
      ]
    },
    {
      "cell_type": "code",
      "execution_count": null,
      "metadata": {
        "id": "Z88sGQtwIIYc",
        "colab": {
          "base_uri": "https://localhost:8080/"
        },
        "outputId": "c84c37a2-3708-4389-80fb-9eb2f6102c83"
      },
      "outputs": [
        {
          "output_type": "stream",
          "name": "stdout",
          "text": [
            "Number of records where label is malicious and detailed-label is C&C: 8238\n",
            "Number of records where label is malicious and detailed-label is PartofHorizontalScan: 7040807\n"
          ]
        }
      ],
      "source": [
        "#Print count of records where label is malicious and detailed-label is C&C.\n",
        "#Print count of records where label is malicious and detailed-label is PartOfAHorizontalPortScan.\n",
        "count_cc = len(iot_intrusion_dataset[(iot_intrusion_dataset['label'] == 'Malicious') & (iot_intrusion_dataset['detailed-label'] == 'C&C')])\n",
        "count_partofhorizontalscan = len(iot_intrusion_dataset[(iot_intrusion_dataset['label'] == 'Malicious') & (iot_intrusion_dataset['detailed-label'] == 'PartOfAHorizontalPortScan')])\n",
        "\n",
        "print(f\"Number of records where label is malicious and detailed-label is C&C: {count_cc}\")\n",
        "print(f\"Number of records where label is malicious and detailed-label is PartofHorizontalScan: {count_partofhorizontalscan}\")"
      ]
    },
    {
      "cell_type": "code",
      "execution_count": null,
      "metadata": {
        "id": "jCnwUiQnMgeA"
      },
      "outputs": [],
      "source": [
        "#Replace 'Malicious' with 'Malicious C&C' where 'label' is 'malicious' and 'detailed-label' is 'C&C'\n",
        "#Replace 'Malicious' with 'Malicious PartofAHorizontalPortScan' where 'label' is 'malicious' and 'detailed-label' is 'PartofHorizontalScan'\n",
        "iot_intrusion_dataset.loc[(iot_intrusion_dataset['label'] == 'Malicious') & (iot_intrusion_dataset['detailed-label'] == 'C&C'), 'label'] = 'Malicious   C&C'\n",
        "\n",
        "iot_intrusion_dataset.loc[(iot_intrusion_dataset['label'] == 'Malicious') & (iot_intrusion_dataset['detailed-label'] == 'PartOfAHorizontalPortScan'), 'label'] = 'Malicious   PartOfAHorizontalPortScan'"
      ]
    },
    {
      "cell_type": "code",
      "execution_count": null,
      "metadata": {
        "id": "TIvZl6dXN0FV",
        "colab": {
          "base_uri": "https://localhost:8080/"
        },
        "outputId": "bc181d5f-b3b9-4b7a-f7e1-fb6ac327ade2"
      },
      "outputs": [
        {
          "output_type": "stream",
          "name": "stdout",
          "text": [
            "label\n",
            "Malicious   PartOfAHorizontalPortScan    10427048\n",
            "Benign                                    8780158\n",
            "Malicious   DDoS                          5778154\n",
            "Malicious   C&C                             16923\n",
            "Malicious                                    5962\n",
            "Malicious   Attack                           2755\n",
            "Malicious   FileDownload                        3\n",
            "Name: count, dtype: int64\n"
          ]
        }
      ],
      "source": [
        "#Print count of records associated with each label in the dataset.\n",
        "label_count = iot_intrusion_dataset['label'].value_counts()\n",
        "print(label_count)"
      ]
    },
    {
      "cell_type": "code",
      "execution_count": null,
      "metadata": {
        "id": "eBQclfTz-vvu",
        "colab": {
          "base_uri": "https://localhost:8080/"
        },
        "outputId": "6374e0b7-afe5-4da3-8502-11f92cacec30"
      },
      "outputs": [
        {
          "output_type": "stream",
          "name": "stdout",
          "text": [
            "ts                       0\n",
            "uid                      0\n",
            "id.orig_h                0\n",
            "id.orig_p                0\n",
            "id.resp_h                0\n",
            "id.resp_p                0\n",
            "proto                    0\n",
            "service           24993006\n",
            "duration          15272073\n",
            "orig_bytes        15272073\n",
            "resp_bytes        15272073\n",
            "conn_state               0\n",
            "local_orig        25011003\n",
            "local_resp        25011003\n",
            "missed_bytes             0\n",
            "history              25116\n",
            "orig_pkts                0\n",
            "orig_ip_bytes            0\n",
            "resp_pkts                0\n",
            "resp_ip_bytes            0\n",
            "tunnel_parents    25011003\n",
            "label                    0\n",
            "detailed-label    17954112\n",
            "dtype: int64\n"
          ]
        }
      ],
      "source": [
        "#Check for missing values.\n",
        "#Replace character '-' with NaN and print the count of null/Nan values for each column/feature.\n",
        "iot_intrusion_dataset.replace('-', pd.NA, inplace=True)\n",
        "null_values = iot_intrusion_dataset.isnull().sum()\n",
        "print(null_values)"
      ]
    },
    {
      "cell_type": "code",
      "execution_count": null,
      "metadata": {
        "id": "ERtKaG37QDOK",
        "colab": {
          "base_uri": "https://localhost:8080/"
        },
        "outputId": "908a7236-dc66-4e1d-f2e6-70b96ecf2dc1"
      },
      "outputs": [
        {
          "output_type": "stream",
          "name": "stdout",
          "text": [
            "ts                  0.000000\n",
            "uid                 0.000000\n",
            "id.orig_h           0.000000\n",
            "id.orig_p           0.000000\n",
            "id.resp_h           0.000000\n",
            "id.resp_p           0.000000\n",
            "proto               0.000000\n",
            "service            99.928044\n",
            "duration           61.061418\n",
            "orig_bytes         61.061418\n",
            "resp_bytes         61.061418\n",
            "conn_state          0.000000\n",
            "local_orig        100.000000\n",
            "local_resp        100.000000\n",
            "missed_bytes        0.000000\n",
            "history             0.100420\n",
            "orig_pkts           0.000000\n",
            "orig_ip_bytes       0.000000\n",
            "resp_pkts           0.000000\n",
            "resp_ip_bytes       0.000000\n",
            "tunnel_parents    100.000000\n",
            "label               0.000000\n",
            "detailed-label     71.784854\n",
            "dtype: float64\n"
          ]
        }
      ],
      "source": [
        "#Print the percentage that null/Nan values represent for each column in the dataset.\n",
        "missing_values_percentage = iot_intrusion_dataset.isna().mean() * 100\n",
        "print(missing_values_percentage)"
      ]
    },
    {
      "cell_type": "code",
      "execution_count": null,
      "metadata": {
        "id": "TfuDv9rR-oBj"
      },
      "outputs": [],
      "source": [
        "#Drop all columns with null values.\n",
        "iot_intrusion_dataset.drop([\"detailed-label\", \"service\", \"duration\", \"orig_bytes\", \"resp_bytes\", \"local_orig\", \"local_resp\", \"tunnel_parents\", \"history\"], axis=1, inplace=True)"
      ]
    },
    {
      "cell_type": "code",
      "execution_count": null,
      "metadata": {
        "id": "UgfKRpFMBzk6",
        "colab": {
          "base_uri": "https://localhost:8080/"
        },
        "outputId": "cd1935ae-0e2a-4218-e460-919c1582ba15"
      },
      "outputs": [
        {
          "output_type": "stream",
          "name": "stdout",
          "text": [
            "ts               0.0\n",
            "uid              0.0\n",
            "id.orig_h        0.0\n",
            "id.orig_p        0.0\n",
            "id.resp_h        0.0\n",
            "id.resp_p        0.0\n",
            "proto            0.0\n",
            "conn_state       0.0\n",
            "missed_bytes     0.0\n",
            "orig_pkts        0.0\n",
            "orig_ip_bytes    0.0\n",
            "resp_pkts        0.0\n",
            "resp_ip_bytes    0.0\n",
            "label            0.0\n",
            "dtype: float64\n"
          ]
        }
      ],
      "source": [
        "#Print the percentage of null/Nan values for each column in the dataset after dropping columns.\n",
        "missing_values_percentage = iot_intrusion_dataset.isna().mean() * 100\n",
        "print(missing_values_percentage)"
      ]
    },
    {
      "cell_type": "code",
      "execution_count": null,
      "metadata": {
        "id": "0zlW1rMA4n2s",
        "colab": {
          "base_uri": "https://localhost:8080/"
        },
        "outputId": "56fce384-5f4e-4555-b6e4-dfc0bde51d68"
      },
      "outputs": [
        {
          "output_type": "execute_result",
          "data": {
            "text/plain": [
              "(25011003, 14)"
            ]
          },
          "metadata": {},
          "execution_count": 18
        }
      ],
      "source": [
        "#Print number of records and features in the dataset\n",
        "iot_intrusion_dataset.shape"
      ]
    },
    {
      "cell_type": "code",
      "execution_count": null,
      "metadata": {
        "id": "CyuSlWgXI8au",
        "colab": {
          "base_uri": "https://localhost:8080/"
        },
        "outputId": "8117ff12-4af7-4fea-9b6b-0d6749fbb086"
      },
      "outputs": [
        {
          "output_type": "execute_result",
          "data": {
            "text/plain": [
              "0"
            ]
          },
          "metadata": {},
          "execution_count": 19
        }
      ],
      "source": [
        "#Check for duplicates in the dataset.\n",
        "iot_intrusion_dataset.duplicated().sum()"
      ]
    },
    {
      "cell_type": "markdown",
      "metadata": {
        "id": "KeJFuzIrLTqJ"
      },
      "source": [
        "# Dataset Consistency Check"
      ]
    },
    {
      "cell_type": "markdown",
      "metadata": {
        "id": "TyQZzJqI8hA9"
      },
      "source": [
        "This section evaluates if the dataset is balanced or imbalanced based on the number of records associated with each label. We can conclude that the dataset is not balanced. There are fewer records for 'Malicious', 'Malicious C&C', 'Malicious DDoS' and 'Malicious Attack' labels."
      ]
    },
    {
      "cell_type": "code",
      "execution_count": null,
      "metadata": {
        "id": "56hCu6kjCqGM",
        "colab": {
          "base_uri": "https://localhost:8080/"
        },
        "outputId": "2bc7fe37-3406-403a-e72d-c9a318e4d41b"
      },
      "outputs": [
        {
          "output_type": "stream",
          "name": "stdout",
          "text": [
            "label\n",
            "Malicious   PartOfAHorizontalPortScan    10427048\n",
            "Benign                                    8780158\n",
            "Malicious   DDoS                          5778154\n",
            "Malicious   C&C                             16923\n",
            "Malicious                                    5962\n",
            "Malicious   Attack                           2755\n",
            "Malicious   FileDownload                        3\n",
            "Name: count, dtype: int64\n"
          ]
        }
      ],
      "source": [
        "#Print count of records associated with each label in the dataset.\n",
        "label_count = iot_intrusion_dataset['label'].value_counts()\n",
        "print(label_count)"
      ]
    },
    {
      "cell_type": "code",
      "execution_count": null,
      "metadata": {
        "id": "PZ3cr0vgLcSL",
        "colab": {
          "base_uri": "https://localhost:8080/"
        },
        "outputId": "eee37811-236e-4f84-8320-ee5927ed04cc"
      },
      "outputs": [
        {
          "output_type": "stream",
          "name": "stderr",
          "text": [
            "<ipython-input-21-c19c81f2adcc>:4: FutureWarning: \n",
            "\n",
            "Passing `palette` without assigning `hue` is deprecated and will be removed in v0.14.0. Assign the `x` variable to `hue` and set `legend=False` for the same effect.\n",
            "\n",
            "  sns.countplot(data=iot_intrusion_dataset, x='label', palette='deep')\n"
          ]
        },
        {
          "output_type": "display_data",
          "data": {
            "text/plain": [
              "<Figure size 2000x1000 with 1 Axes>"
            ],
            "image/png": "[encoded data removed]"
          },
          "metadata": {}
        }
      ],
      "source": [
        "#Create count plot to visualize the distribution of the 'label' column in the dataset.\n",
        "plt.figure(figsize=(20,10))\n",
        "plt.title(\"Dataset Detailed-Label\")\n",
        "sns.countplot(data=iot_intrusion_dataset, x='label', palette='deep')\n",
        "plt.show()"
      ]
    },
    {
      "cell_type": "code",
      "execution_count": null,
      "metadata": {
        "id": "jhW_U64nSkAf"
      },
      "outputs": [],
      "source": [
        "#Determine the indices of the rows where label='Malicious   FileDownload', 'Malicious Attack'.\n",
        "#Drop those rows.\n",
        "labels_to_include = ['Malicious   Attack', 'Malicious   FileDownload', 'Malicious   C&C', 'Malicious']\n",
        "rows_to_drop = iot_intrusion_dataset[iot_intrusion_dataset['label'].isin(labels_to_include)].index\n",
        "iot_intrusion_dataset.drop(rows_to_drop, inplace=True)"
      ]
    },
    {
      "cell_type": "markdown",
      "metadata": {
        "id": "DIWHHoec9FM1"
      },
      "source": [
        "# Feature Engineering\n",
        "In this section, we use label encoding to transform string and object data types into numeric data.\n"
      ]
    },
    {
      "cell_type": "code",
      "execution_count": null,
      "metadata": {
        "id": "izDKPvZPatQp",
        "colab": {
          "base_uri": "https://localhost:8080/"
        },
        "outputId": "9985edb6-4fe5-433a-fd20-91de3550ce4b"
      },
      "outputs": [
        {
          "output_type": "execute_result",
          "data": {
            "text/plain": [
              "             ts                 uid        id.orig_h  id.orig_p  \\\n",
              "0  1.545458e+09  CRpZTx3QpREBLMkU84    192.168.1.196    33602.0   \n",
              "1  1.532527e+09  CsluWx47bsMLEPPlO2  192.168.100.111    56675.0   \n",
              "2  1.545436e+09  CHviE841AgX44xSg0a    192.168.1.196    46128.0   \n",
              "3  1.532563e+09  Cm2xso4ZbrYhknvWbk  192.168.100.111     5135.0   \n",
              "4  1.569018e+09  ClPyQZ2l6aBFqUmp3b    192.168.1.195    22747.0   \n",
              "\n",
              "         id.resp_h  id.resp_p proto conn_state  missed_bytes  orig_pkts  \\\n",
              "0     119.40.38.73       23.0   tcp         S0           0.0        3.0   \n",
              "1     39.213.84.34       23.0   tcp         S0           0.0        1.0   \n",
              "2  159.229.153.210       23.0   tcp         S0           0.0        1.0   \n",
              "3    147.32.46.208       23.0   tcp         S0           0.0        1.0   \n",
              "4   162.248.88.215    62336.0   tcp        OTH           0.0        0.0   \n",
              "\n",
              "   orig_ip_bytes  resp_pkts  resp_ip_bytes  \\\n",
              "0          180.0        0.0            0.0   \n",
              "1           40.0        0.0            0.0   \n",
              "2           60.0        0.0            0.0   \n",
              "3           40.0        0.0            0.0   \n",
              "4            0.0        0.0            0.0   \n",
              "\n",
              "                                   label  \n",
              "0                                 Benign  \n",
              "1  Malicious   PartOfAHorizontalPortScan  \n",
              "2                                 Benign  \n",
              "3  Malicious   PartOfAHorizontalPortScan  \n",
              "4                       Malicious   DDoS  "
            ],
            "text/html": [
              "\n",
              "  <div id=\"df-280b2c8a-c714-4a38-9b14-c8483fec404c\" class=\"colab-df-container\">\n",
              "    <div>\n",
              "<style scoped>\n",
              "    .dataframe tbody tr th:only-of-type {\n",
              "        vertical-align: middle;\n",
              "    }\n",
              "\n",
              "    .dataframe tbody tr th {\n",
              "        vertical-align: top;\n",
              "    }\n",
              "\n",
              "    .dataframe thead th {\n",
              "        text-align: right;\n",
              "    }\n",
              "</style>\n",
              "<table border=\"1\" class=\"dataframe\">\n",
              "  <thead>\n",
              "    <tr style=\"text-align: right;\">\n",
              "      <th></th>\n",
              "      <th>ts</th>\n",
              "      <th>uid</th>\n",
              "      <th>id.orig_h</th>\n",
              "      <th>id.orig_p</th>\n",
              "      <th>id.resp_h</th>\n",
              "      <th>id.resp_p</th>\n",
              "      <th>proto</th>\n",
              "      <th>conn_state</th>\n",
              "      <th>missed_bytes</th>\n",
              "      <th>orig_pkts</th>\n",
              "      <th>orig_ip_bytes</th>\n",
              "      <th>resp_pkts</th>\n",
              "      <th>resp_ip_bytes</th>\n",
              "      <th>label</th>\n",
              "    </tr>\n",
              "  </thead>\n",
              "  <tbody>\n",
              "    <tr>\n",
              "      <th>0</th>\n",
              "      <td>1.545458e+09</td>\n",
              "      <td>CRpZTx3QpREBLMkU84</td>\n",
              "      <td>192.168.1.196</td>\n",
              "      <td>33602.0</td>\n",
              "      <td>119.40.38.73</td>\n",
              "      <td>23.0</td>\n",
              "      <td>tcp</td>\n",
              "      <td>S0</td>\n",
              "      <td>0.0</td>\n",
              "      <td>3.0</td>\n",
              "      <td>180.0</td>\n",
              "      <td>0.0</td>\n",
              "      <td>0.0</td>\n",
              "      <td>Benign</td>\n",
              "    </tr>\n",
              "    <tr>\n",
              "      <th>1</th>\n",
              "      <td>1.532527e+09</td>\n",
              "      <td>CsluWx47bsMLEPPlO2</td>\n",
              "      <td>192.168.100.111</td>\n",
              "      <td>56675.0</td>\n",
              "      <td>39.213.84.34</td>\n",
              "      <td>23.0</td>\n",
              "      <td>tcp</td>\n",
              "      <td>S0</td>\n",
              "      <td>0.0</td>\n",
              "      <td>1.0</td>\n",
              "      <td>40.0</td>\n",
              "      <td>0.0</td>\n",
              "      <td>0.0</td>\n",
              "      <td>Malicious   PartOfAHorizontalPortScan</td>\n",
              "    </tr>\n",
              "    <tr>\n",
              "      <th>2</th>\n",
              "      <td>1.545436e+09</td>\n",
              "      <td>CHviE841AgX44xSg0a</td>\n",
              "      <td>192.168.1.196</td>\n",
              "      <td>46128.0</td>\n",
              "      <td>159.229.153.210</td>\n",
              "      <td>23.0</td>\n",
              "      <td>tcp</td>\n",
              "      <td>S0</td>\n",
              "      <td>0.0</td>\n",
              "      <td>1.0</td>\n",
              "      <td>60.0</td>\n",
              "      <td>0.0</td>\n",
              "      <td>0.0</td>\n",
              "      <td>Benign</td>\n",
              "    </tr>\n",
              "    <tr>\n",
              "      <th>3</th>\n",
              "      <td>1.532563e+09</td>\n",
              "      <td>Cm2xso4ZbrYhknvWbk</td>\n",
              "      <td>192.168.100.111</td>\n",
              "      <td>5135.0</td>\n",
              "      <td>147.32.46.208</td>\n",
              "      <td>23.0</td>\n",
              "      <td>tcp</td>\n",
              "      <td>S0</td>\n",
              "      <td>0.0</td>\n",
              "      <td>1.0</td>\n",
              "      <td>40.0</td>\n",
              "      <td>0.0</td>\n",
              "      <td>0.0</td>\n",
              "      <td>Malicious   PartOfAHorizontalPortScan</td>\n",
              "    </tr>\n",
              "    <tr>\n",
              "      <th>4</th>\n",
              "      <td>1.569018e+09</td>\n",
              "      <td>ClPyQZ2l6aBFqUmp3b</td>\n",
              "      <td>192.168.1.195</td>\n",
              "      <td>22747.0</td>\n",
              "      <td>162.248.88.215</td>\n",
              "      <td>62336.0</td>\n",
              "      <td>tcp</td>\n",
              "      <td>OTH</td>\n",
              "      <td>0.0</td>\n",
              "      <td>0.0</td>\n",
              "      <td>0.0</td>\n",
              "      <td>0.0</td>\n",
              "      <td>0.0</td>\n",
              "      <td>Malicious   DDoS</td>\n",
              "    </tr>\n",
              "  </tbody>\n",
              "</table>\n",
              "</div>\n",
              "    <div class=\"colab-df-buttons\">\n",
              "\n",
              "  <div class=\"colab-df-container\">\n",
              "    <button class=\"colab-df-convert\" onclick=\"convertToInteractive('df-280b2c8a-c714-4a38-9b14-c8483fec404c')\"\n",
              "            title=\"Convert this dataframe to an interactive table.\"\n",
              "            style=\"display:none;\">\n",
              "\n",
              "  <svg xmlns=\"http://www.w3.org/2000/svg\" height=\"24px\" viewBox=\"0 -960 960 960\">\n",
              "    <path d=\"M120-120v-720h720v720H120Zm60-500h600v-160H180v160Zm220 220h160v-160H400v160Zm0 220h160v-160H400v160ZM180-400h160v-160H180v160Zm440 0h160v-160H620v160ZM180-180h160v-160H180v160Zm440 0h160v-160H620v160Z\"/>\n",
              "  </svg>\n",
              "    </button>\n",
              "\n",
              "  <style>\n",
              "    .colab-df-container {\n",
              "      display:flex;\n",
              "      gap: 12px;\n",
              "    }\n",
              "\n",
              "    .colab-df-convert {\n",
              "      background-color: #E8F0FE;\n",
              "      border: none;\n",
              "      border-radius: 50%;\n",
              "      cursor: pointer;\n",
              "      display: none;\n",
              "      fill: #1967D2;\n",
              "      height: 32px;\n",
              "      padding: 0 0 0 0;\n",
              "      width: 32px;\n",
              "    }\n",
              "\n",
              "    .colab-df-convert:hover {\n",
              "      background-color: #E2EBFA;\n",
              "      box-shadow: 0px 1px 2px rgba(60, 64, 67, 0.3), 0px 1px 3px 1px rgba(60, 64, 67, 0.15);\n",
              "      fill: #174EA6;\n",
              "    }\n",
              "\n",
              "    .colab-df-buttons div {\n",
              "      margin-bottom: 4px;\n",
              "    }\n",
              "\n",
              "    [theme=dark] .colab-df-convert {\n",
              "      background-color: #3B4455;\n",
              "      fill: #D2E3FC;\n",
              "    }\n",
              "\n",
              "    [theme=dark] .colab-df-convert:hover {\n",
              "      background-color: #434B5C;\n",
              "      box-shadow: 0px 1px 3px 1px rgba(0, 0, 0, 0.15);\n",
              "      filter: drop-shadow(0px 1px 2px rgba(0, 0, 0, 0.3));\n",
              "      fill: #FFFFFF;\n",
              "    }\n",
              "  </style>\n",
              "\n",
              "    <script>\n",
              "      const buttonEl =\n",
              "        document.querySelector('#df-280b2c8a-c714-4a38-9b14-c8483fec404c button.colab-df-convert');\n",
              "      buttonEl.style.display =\n",
              "        google.colab.kernel.accessAllowed ? 'block' : 'none';\n",
              "\n",
              "      async function convertToInteractive(key) {\n",
              "        const element = document.querySelector('#df-280b2c8a-c714-4a38-9b14-c8483fec404c');\n",
              "        const dataTable =\n",
              "          await google.colab.kernel.invokeFunction('convertToInteractive',\n",
              "                                                    [key], {});\n",
              "        if (!dataTable) return;\n",
              "\n",
              "        const docLinkHtml = 'Like what you see? Visit the ' +\n",
              "          '<a target=\"_blank\" href=https://colab.research.google.com/notebooks/data_table.ipynb>data table notebook</a>'\n",
              "          + ' to learn more about interactive tables.';\n",
              "        element.innerHTML = '';\n",
              "        dataTable['output_type'] = 'display_data';\n",
              "        await google.colab.output.renderOutput(dataTable, element);\n",
              "        const docLink = document.createElement('div');\n",
              "        docLink.innerHTML = docLinkHtml;\n",
              "        element.appendChild(docLink);\n",
              "      }\n",
              "    </script>\n",
              "  </div>\n",
              "\n",
              "\n",
              "<div id=\"df-45d80122-871c-4221-9d1c-cc03459b79c5\">\n",
              "  <button class=\"colab-df-quickchart\" onclick=\"quickchart('df-45d80122-871c-4221-9d1c-cc03459b79c5')\"\n",
              "            title=\"Suggest charts\"\n",
              "            style=\"display:none;\">\n",
              "\n",
              "<svg xmlns=\"http://www.w3.org/2000/svg\" height=\"24px\"viewBox=\"0 0 24 24\"\n",
              "     width=\"24px\">\n",
              "    <g>\n",
              "        <path d=\"M19 3H5c-1.1 0-2 .9-2 2v14c0 1.1.9 2 2 2h14c1.1 0 2-.9 2-2V5c0-1.1-.9-2-2-2zM9 17H7v-7h2v7zm4 0h-2V7h2v10zm4 0h-2v-4h2v4z\"/>\n",
              "    </g>\n",
              "</svg>\n",
              "  </button>\n",
              "\n",
              "<style>\n",
              "  .colab-df-quickchart {\n",
              "      --bg-color: #E8F0FE;\n",
              "      --fill-color: #1967D2;\n",
              "      --hover-bg-color: #E2EBFA;\n",
              "      --hover-fill-color: #174EA6;\n",
              "      --disabled-fill-color: #AAA;\n",
              "      --disabled-bg-color: #DDD;\n",
              "  }\n",
              "\n",
              "  [theme=dark] .colab-df-quickchart {\n",
              "      --bg-color: #3B4455;\n",
              "      --fill-color: #D2E3FC;\n",
              "      --hover-bg-color: #434B5C;\n",
              "      --hover-fill-color: #FFFFFF;\n",
              "      --disabled-bg-color: #3B4455;\n",
              "      --disabled-fill-color: #666;\n",
              "  }\n",
              "\n",
              "  .colab-df-quickchart {\n",
              "    background-color: var(--bg-color);\n",
              "    border: none;\n",
              "    border-radius: 50%;\n",
              "    cursor: pointer;\n",
              "    display: none;\n",
              "    fill: var(--fill-color);\n",
              "    height: 32px;\n",
              "    padding: 0;\n",
              "    width: 32px;\n",
              "  }\n",
              "\n",
              "  .colab-df-quickchart:hover {\n",
              "    background-color: var(--hover-bg-color);\n",
              "    box-shadow: 0 1px 2px rgba(60, 64, 67, 0.3), 0 1px 3px 1px rgba(60, 64, 67, 0.15);\n",
              "    fill: var(--button-hover-fill-color);\n",
              "  }\n",
              "\n",
              "  .colab-df-quickchart-complete:disabled,\n",
              "  .colab-df-quickchart-complete:disabled:hover {\n",
              "    background-color: var(--disabled-bg-color);\n",
              "    fill: var(--disabled-fill-color);\n",
              "    box-shadow: none;\n",
              "  }\n",
              "\n",
              "  .colab-df-spinner {\n",
              "    border: 2px solid var(--fill-color);\n",
              "    border-color: transparent;\n",
              "    border-bottom-color: var(--fill-color);\n",
              "    animation:\n",
              "      spin 1s steps(1) infinite;\n",
              "  }\n",
              "\n",
              "  @keyframes spin {\n",
              "    0% {\n",
              "      border-color: transparent;\n",
              "      border-bottom-color: var(--fill-color);\n",
              "      border-left-color: var(--fill-color);\n",
              "    }\n",
              "    20% {\n",
              "      border-color: transparent;\n",
              "      border-left-color: var(--fill-color);\n",
              "      border-top-color: var(--fill-color);\n",
              "    }\n",
              "    30% {\n",
              "      border-color: transparent;\n",
              "      border-left-color: var(--fill-color);\n",
              "      border-top-color: var(--fill-color);\n",
              "      border-right-color: var(--fill-color);\n",
              "    }\n",
              "    40% {\n",
              "      border-color: transparent;\n",
              "      border-right-color: var(--fill-color);\n",
              "      border-top-color: var(--fill-color);\n",
              "    }\n",
              "    60% {\n",
              "      border-color: transparent;\n",
              "      border-right-color: var(--fill-color);\n",
              "    }\n",
              "    80% {\n",
              "      border-color: transparent;\n",
              "      border-right-color: var(--fill-color);\n",
              "      border-bottom-color: var(--fill-color);\n",
              "    }\n",
              "    90% {\n",
              "      border-color: transparent;\n",
              "      border-bottom-color: var(--fill-color);\n",
              "    }\n",
              "  }\n",
              "</style>\n",
              "\n",
              "  <script>\n",
              "    async function quickchart(key) {\n",
              "      const quickchartButtonEl =\n",
              "        document.querySelector('#' + key + ' button');\n",
              "      quickchartButtonEl.disabled = true;  // To prevent multiple clicks.\n",
              "      quickchartButtonEl.classList.add('colab-df-spinner');\n",
              "      try {\n",
              "        const charts = await google.colab.kernel.invokeFunction(\n",
              "            'suggestCharts', [key], {});\n",
              "      } catch (error) {\n",
              "        console.error('Error during call to suggestCharts:', error);\n",
              "      }\n",
              "      quickchartButtonEl.classList.remove('colab-df-spinner');\n",
              "      quickchartButtonEl.classList.add('colab-df-quickchart-complete');\n",
              "    }\n",
              "    (() => {\n",
              "      let quickchartButtonEl =\n",
              "        document.querySelector('#df-45d80122-871c-4221-9d1c-cc03459b79c5 button');\n",
              "      quickchartButtonEl.style.display =\n",
              "        google.colab.kernel.accessAllowed ? 'block' : 'none';\n",
              "    })();\n",
              "  </script>\n",
              "</div>\n",
              "\n",
              "    </div>\n",
              "  </div>\n"
            ],
            "application/vnd.google.colaboratory.intrinsic+json": {
              "type": "dataframe",
              "variable_name": "iot_intrusion_dataset"
            }
          },
          "metadata": {},
          "execution_count": 23
        }
      ],
      "source": [
        "iot_intrusion_dataset.head()"
      ]
    },
    {
      "cell_type": "code",
      "execution_count": null,
      "metadata": {
        "id": "af_LhLAecYPP"
      },
      "outputs": [],
      "source": [
        "#Define transform(label) function to encode the labels in the dataset and apply the transform to the labels.\n",
        "def transform(label):\n",
        "  if label == 'Benign': return 0\n",
        "  if label == 'Malicious   PartOfAHorizontalPortScan': return 1\n",
        "  return 2\n",
        "\n",
        "iot_intrusion_dataset['label'] = iot_intrusion_dataset['label'].apply(transform)"
      ]
    },
    {
      "cell_type": "code",
      "execution_count": null,
      "metadata": {
        "id": "-7pelq-9BYRi"
      },
      "outputs": [],
      "source": [
        "#Create an instance label_encoder to transform string or object data into numeric data.\n",
        "label_encoder = LabelEncoder()"
      ]
    },
    {
      "cell_type": "code",
      "execution_count": null,
      "metadata": {
        "id": "JSAIVs0XoL1c"
      },
      "outputs": [],
      "source": [
        "#Tranform the 'uid' column into a numerical label for model processing.\n",
        "iot_intrusion_dataset['uid'] = label_encoder.fit_transform(iot_intrusion_dataset['uid'])"
      ]
    },
    {
      "cell_type": "code",
      "execution_count": null,
      "metadata": {
        "id": "wJ2HleGfoMLj"
      },
      "outputs": [],
      "source": [
        "#Tranform the 'proto' column into a numerical label for model processing.\n",
        "iot_intrusion_dataset['proto'] = label_encoder.fit_transform(iot_intrusion_dataset['proto'])"
      ]
    },
    {
      "cell_type": "code",
      "execution_count": null,
      "metadata": {
        "id": "4SeBTgOQof3l"
      },
      "outputs": [],
      "source": [
        "#Tranform the 'conn-state' column into a numerical label for model processing.\n",
        "iot_intrusion_dataset['conn_state'] = label_encoder.fit_transform(iot_intrusion_dataset['conn_state'])"
      ]
    },
    {
      "cell_type": "code",
      "execution_count": null,
      "metadata": {
        "id": "L1lQqd8lMFow"
      },
      "outputs": [],
      "source": [
        "#Tranform the 'id.orig_h' column into a numerical label for model processing.\n",
        "iot_intrusion_dataset['id.orig_h'] = label_encoder.fit_transform(iot_intrusion_dataset['id.orig_h'])"
      ]
    },
    {
      "cell_type": "code",
      "execution_count": null,
      "metadata": {
        "id": "1M-mgQpsMF8q"
      },
      "outputs": [],
      "source": [
        "#Tranform the 'id.resp_h' column into a numerical label for model processing.\n",
        "iot_intrusion_dataset['id.resp_h'] = label_encoder.fit_transform(iot_intrusion_dataset['id.resp_h'])"
      ]
    },
    {
      "cell_type": "code",
      "execution_count": null,
      "metadata": {
        "id": "GJnYwyU5of-z",
        "colab": {
          "base_uri": "https://localhost:8080/"
        },
        "outputId": "8972b786-f0ef-43fa-cafe-5b64d3534d0d"
      },
      "outputs": [
        {
          "output_type": "execute_result",
          "data": {
            "text/plain": [
              "             ts       uid  id.orig_h  id.orig_p  id.resp_h  id.resp_p  proto  \\\n",
              "0  1.545458e+09  11213415       8933    33602.0    1231494       23.0      1   \n",
              "1  1.532527e+09  22074121       8940    56675.0    8622471       23.0      1   \n",
              "2  1.545436e+09   7225562       8933    46128.0    3997292       23.0      1   \n",
              "3  1.532563e+09  19361674       8940     5135.0    3171459       23.0      1   \n",
              "4  1.569018e+09  19107733       8932    22747.0    4209073    62336.0      1   \n",
              "\n",
              "   conn_state  missed_bytes  orig_pkts  orig_ip_bytes  resp_pkts  \\\n",
              "0           6           0.0        3.0          180.0        0.0   \n",
              "1           6           0.0        1.0           40.0        0.0   \n",
              "2           6           0.0        1.0           60.0        0.0   \n",
              "3           6           0.0        1.0           40.0        0.0   \n",
              "4           0           0.0        0.0            0.0        0.0   \n",
              "\n",
              "   resp_ip_bytes  label  \n",
              "0            0.0      0  \n",
              "1            0.0      1  \n",
              "2            0.0      0  \n",
              "3            0.0      1  \n",
              "4            0.0      2  "
            ],
            "text/html": [
              "\n",
              "  <div id=\"df-66e34a56-55bb-4c08-be71-bb962b82c421\" class=\"colab-df-container\">\n",
              "    <div>\n",
              "<style scoped>\n",
              "    .dataframe tbody tr th:only-of-type {\n",
              "        vertical-align: middle;\n",
              "    }\n",
              "\n",
              "    .dataframe tbody tr th {\n",
              "        vertical-align: top;\n",
              "    }\n",
              "\n",
              "    .dataframe thead th {\n",
              "        text-align: right;\n",
              "    }\n",
              "</style>\n",
              "<table border=\"1\" class=\"dataframe\">\n",
              "  <thead>\n",
              "    <tr style=\"text-align: right;\">\n",
              "      <th></th>\n",
              "      <th>ts</th>\n",
              "      <th>uid</th>\n",
              "      <th>id.orig_h</th>\n",
              "      <th>id.orig_p</th>\n",
              "      <th>id.resp_h</th>\n",
              "      <th>id.resp_p</th>\n",
              "      <th>proto</th>\n",
              "      <th>conn_state</th>\n",
              "      <th>missed_bytes</th>\n",
              "      <th>orig_pkts</th>\n",
              "      <th>orig_ip_bytes</th>\n",
              "      <th>resp_pkts</th>\n",
              "      <th>resp_ip_bytes</th>\n",
              "      <th>label</th>\n",
              "    </tr>\n",
              "  </thead>\n",
              "  <tbody>\n",
              "    <tr>\n",
              "      <th>0</th>\n",
              "      <td>1.545458e+09</td>\n",
              "      <td>11213415</td>\n",
              "      <td>8933</td>\n",
              "      <td>33602.0</td>\n",
              "      <td>1231494</td>\n",
              "      <td>23.0</td>\n",
              "      <td>1</td>\n",
              "      <td>6</td>\n",
              "      <td>0.0</td>\n",
              "      <td>3.0</td>\n",
              "      <td>180.0</td>\n",
              "      <td>0.0</td>\n",
              "      <td>0.0</td>\n",
              "      <td>0</td>\n",
              "    </tr>\n",
              "    <tr>\n",
              "      <th>1</th>\n",
              "      <td>1.532527e+09</td>\n",
              "      <td>22074121</td>\n",
              "      <td>8940</td>\n",
              "      <td>56675.0</td>\n",
              "      <td>8622471</td>\n",
              "      <td>23.0</td>\n",
              "      <td>1</td>\n",
              "      <td>6</td>\n",
              "      <td>0.0</td>\n",
              "      <td>1.0</td>\n",
              "      <td>40.0</td>\n",
              "      <td>0.0</td>\n",
              "      <td>0.0</td>\n",
              "      <td>1</td>\n",
              "    </tr>\n",
              "    <tr>\n",
              "      <th>2</th>\n",
              "      <td>1.545436e+09</td>\n",
              "      <td>7225562</td>\n",
              "      <td>8933</td>\n",
              "      <td>46128.0</td>\n",
              "      <td>3997292</td>\n",
              "      <td>23.0</td>\n",
              "      <td>1</td>\n",
              "      <td>6</td>\n",
              "      <td>0.0</td>\n",
              "      <td>1.0</td>\n",
              "      <td>60.0</td>\n",
              "      <td>0.0</td>\n",
              "      <td>0.0</td>\n",
              "      <td>0</td>\n",
              "    </tr>\n",
              "    <tr>\n",
              "      <th>3</th>\n",
              "      <td>1.532563e+09</td>\n",
              "      <td>19361674</td>\n",
              "      <td>8940</td>\n",
              "      <td>5135.0</td>\n",
              "      <td>3171459</td>\n",
              "      <td>23.0</td>\n",
              "      <td>1</td>\n",
              "      <td>6</td>\n",
              "      <td>0.0</td>\n",
              "      <td>1.0</td>\n",
              "      <td>40.0</td>\n",
              "      <td>0.0</td>\n",
              "      <td>0.0</td>\n",
              "      <td>1</td>\n",
              "    </tr>\n",
              "    <tr>\n",
              "      <th>4</th>\n",
              "      <td>1.569018e+09</td>\n",
              "      <td>19107733</td>\n",
              "      <td>8932</td>\n",
              "      <td>22747.0</td>\n",
              "      <td>4209073</td>\n",
              "      <td>62336.0</td>\n",
              "      <td>1</td>\n",
              "      <td>0</td>\n",
              "      <td>0.0</td>\n",
              "      <td>0.0</td>\n",
              "      <td>0.0</td>\n",
              "      <td>0.0</td>\n",
              "      <td>0.0</td>\n",
              "      <td>2</td>\n",
              "    </tr>\n",
              "  </tbody>\n",
              "</table>\n",
              "</div>\n",
              "    <div class=\"colab-df-buttons\">\n",
              "\n",
              "  <div class=\"colab-df-container\">\n",
              "    <button class=\"colab-df-convert\" onclick=\"convertToInteractive('df-66e34a56-55bb-4c08-be71-bb962b82c421')\"\n",
              "            title=\"Convert this dataframe to an interactive table.\"\n",
              "            style=\"display:none;\">\n",
              "\n",
              "  <svg xmlns=\"http://www.w3.org/2000/svg\" height=\"24px\" viewBox=\"0 -960 960 960\">\n",
              "    <path d=\"M120-120v-720h720v720H120Zm60-500h600v-160H180v160Zm220 220h160v-160H400v160Zm0 220h160v-160H400v160ZM180-400h160v-160H180v160Zm440 0h160v-160H620v160ZM180-180h160v-160H180v160Zm440 0h160v-160H620v160Z\"/>\n",
              "  </svg>\n",
              "    </button>\n",
              "\n",
              "  <style>\n",
              "    .colab-df-container {\n",
              "      display:flex;\n",
              "      gap: 12px;\n",
              "    }\n",
              "\n",
              "    .colab-df-convert {\n",
              "      background-color: #E8F0FE;\n",
              "      border: none;\n",
              "      border-radius: 50%;\n",
              "      cursor: pointer;\n",
              "      display: none;\n",
              "      fill: #1967D2;\n",
              "      height: 32px;\n",
              "      padding: 0 0 0 0;\n",
              "      width: 32px;\n",
              "    }\n",
              "\n",
              "    .colab-df-convert:hover {\n",
              "      background-color: #E2EBFA;\n",
              "      box-shadow: 0px 1px 2px rgba(60, 64, 67, 0.3), 0px 1px 3px 1px rgba(60, 64, 67, 0.15);\n",
              "      fill: #174EA6;\n",
              "    }\n",
              "\n",
              "    .colab-df-buttons div {\n",
              "      margin-bottom: 4px;\n",
              "    }\n",
              "\n",
              "    [theme=dark] .colab-df-convert {\n",
              "      background-color: #3B4455;\n",
              "      fill: #D2E3FC;\n",
              "    }\n",
              "\n",
              "    [theme=dark] .colab-df-convert:hover {\n",
              "      background-color: #434B5C;\n",
              "      box-shadow: 0px 1px 3px 1px rgba(0, 0, 0, 0.15);\n",
              "      filter: drop-shadow(0px 1px 2px rgba(0, 0, 0, 0.3));\n",
              "      fill: #FFFFFF;\n",
              "    }\n",
              "  </style>\n",
              "\n",
              "    <script>\n",
              "      const buttonEl =\n",
              "        document.querySelector('#df-66e34a56-55bb-4c08-be71-bb962b82c421 button.colab-df-convert');\n",
              "      buttonEl.style.display =\n",
              "        google.colab.kernel.accessAllowed ? 'block' : 'none';\n",
              "\n",
              "      async function convertToInteractive(key) {\n",
              "        const element = document.querySelector('#df-66e34a56-55bb-4c08-be71-bb962b82c421');\n",
              "        const dataTable =\n",
              "          await google.colab.kernel.invokeFunction('convertToInteractive',\n",
              "                                                    [key], {});\n",
              "        if (!dataTable) return;\n",
              "\n",
              "        const docLinkHtml = 'Like what you see? Visit the ' +\n",
              "          '<a target=\"_blank\" href=https://colab.research.google.com/notebooks/data_table.ipynb>data table notebook</a>'\n",
              "          + ' to learn more about interactive tables.';\n",
              "        element.innerHTML = '';\n",
              "        dataTable['output_type'] = 'display_data';\n",
              "        await google.colab.output.renderOutput(dataTable, element);\n",
              "        const docLink = document.createElement('div');\n",
              "        docLink.innerHTML = docLinkHtml;\n",
              "        element.appendChild(docLink);\n",
              "      }\n",
              "    </script>\n",
              "  </div>\n",
              "\n",
              "\n",
              "<div id=\"df-2086263a-4320-4030-a82f-7632350b36a8\">\n",
              "  <button class=\"colab-df-quickchart\" onclick=\"quickchart('df-2086263a-4320-4030-a82f-7632350b36a8')\"\n",
              "            title=\"Suggest charts\"\n",
              "            style=\"display:none;\">\n",
              "\n",
              "<svg xmlns=\"http://www.w3.org/2000/svg\" height=\"24px\"viewBox=\"0 0 24 24\"\n",
              "     width=\"24px\">\n",
              "    <g>\n",
              "        <path d=\"M19 3H5c-1.1 0-2 .9-2 2v14c0 1.1.9 2 2 2h14c1.1 0 2-.9 2-2V5c0-1.1-.9-2-2-2zM9 17H7v-7h2v7zm4 0h-2V7h2v10zm4 0h-2v-4h2v4z\"/>\n",
              "    </g>\n",
              "</svg>\n",
              "  </button>\n",
              "\n",
              "<style>\n",
              "  .colab-df-quickchart {\n",
              "      --bg-color: #E8F0FE;\n",
              "      --fill-color: #1967D2;\n",
              "      --hover-bg-color: #E2EBFA;\n",
              "      --hover-fill-color: #174EA6;\n",
              "      --disabled-fill-color: #AAA;\n",
              "      --disabled-bg-color: #DDD;\n",
              "  }\n",
              "\n",
              "  [theme=dark] .colab-df-quickchart {\n",
              "      --bg-color: #3B4455;\n",
              "      --fill-color: #D2E3FC;\n",
              "      --hover-bg-color: #434B5C;\n",
              "      --hover-fill-color: #FFFFFF;\n",
              "      --disabled-bg-color: #3B4455;\n",
              "      --disabled-fill-color: #666;\n",
              "  }\n",
              "\n",
              "  .colab-df-quickchart {\n",
              "    background-color: var(--bg-color);\n",
              "    border: none;\n",
              "    border-radius: 50%;\n",
              "    cursor: pointer;\n",
              "    display: none;\n",
              "    fill: var(--fill-color);\n",
              "    height: 32px;\n",
              "    padding: 0;\n",
              "    width: 32px;\n",
              "  }\n",
              "\n",
              "  .colab-df-quickchart:hover {\n",
              "    background-color: var(--hover-bg-color);\n",
              "    box-shadow: 0 1px 2px rgba(60, 64, 67, 0.3), 0 1px 3px 1px rgba(60, 64, 67, 0.15);\n",
              "    fill: var(--button-hover-fill-color);\n",
              "  }\n",
              "\n",
              "  .colab-df-quickchart-complete:disabled,\n",
              "  .colab-df-quickchart-complete:disabled:hover {\n",
              "    background-color: var(--disabled-bg-color);\n",
              "    fill: var(--disabled-fill-color);\n",
              "    box-shadow: none;\n",
              "  }\n",
              "\n",
              "  .colab-df-spinner {\n",
              "    border: 2px solid var(--fill-color);\n",
              "    border-color: transparent;\n",
              "    border-bottom-color: var(--fill-color);\n",
              "    animation:\n",
              "      spin 1s steps(1) infinite;\n",
              "  }\n",
              "\n",
              "  @keyframes spin {\n",
              "    0% {\n",
              "      border-color: transparent;\n",
              "      border-bottom-color: var(--fill-color);\n",
              "      border-left-color: var(--fill-color);\n",
              "    }\n",
              "    20% {\n",
              "      border-color: transparent;\n",
              "      border-left-color: var(--fill-color);\n",
              "      border-top-color: var(--fill-color);\n",
              "    }\n",
              "    30% {\n",
              "      border-color: transparent;\n",
              "      border-left-color: var(--fill-color);\n",
              "      border-top-color: var(--fill-color);\n",
              "      border-right-color: var(--fill-color);\n",
              "    }\n",
              "    40% {\n",
              "      border-color: transparent;\n",
              "      border-right-color: var(--fill-color);\n",
              "      border-top-color: var(--fill-color);\n",
              "    }\n",
              "    60% {\n",
              "      border-color: transparent;\n",
              "      border-right-color: var(--fill-color);\n",
              "    }\n",
              "    80% {\n",
              "      border-color: transparent;\n",
              "      border-right-color: var(--fill-color);\n",
              "      border-bottom-color: var(--fill-color);\n",
              "    }\n",
              "    90% {\n",
              "      border-color: transparent;\n",
              "      border-bottom-color: var(--fill-color);\n",
              "    }\n",
              "  }\n",
              "</style>\n",
              "\n",
              "  <script>\n",
              "    async function quickchart(key) {\n",
              "      const quickchartButtonEl =\n",
              "        document.querySelector('#' + key + ' button');\n",
              "      quickchartButtonEl.disabled = true;  // To prevent multiple clicks.\n",
              "      quickchartButtonEl.classList.add('colab-df-spinner');\n",
              "      try {\n",
              "        const charts = await google.colab.kernel.invokeFunction(\n",
              "            'suggestCharts', [key], {});\n",
              "      } catch (error) {\n",
              "        console.error('Error during call to suggestCharts:', error);\n",
              "      }\n",
              "      quickchartButtonEl.classList.remove('colab-df-spinner');\n",
              "      quickchartButtonEl.classList.add('colab-df-quickchart-complete');\n",
              "    }\n",
              "    (() => {\n",
              "      let quickchartButtonEl =\n",
              "        document.querySelector('#df-2086263a-4320-4030-a82f-7632350b36a8 button');\n",
              "      quickchartButtonEl.style.display =\n",
              "        google.colab.kernel.accessAllowed ? 'block' : 'none';\n",
              "    })();\n",
              "  </script>\n",
              "</div>\n",
              "\n",
              "    </div>\n",
              "  </div>\n"
            ],
            "application/vnd.google.colaboratory.intrinsic+json": {
              "type": "dataframe",
              "variable_name": "iot_intrusion_dataset"
            }
          },
          "metadata": {},
          "execution_count": 31
        }
      ],
      "source": [
        "iot_intrusion_dataset.head()"
      ]
    },
    {
      "cell_type": "code",
      "source": [
        "#Correlation Matrix\n",
        "comp_data = iot_intrusion_dataset.drop(['label'], axis=1)\n",
        "correlation_matrix = comp_data.corr()\n",
        "plt.figure(figsize=(20, 20))\n",
        "sns.heatmap(correlation_matrix, annot=True, cmap='coolwarm', fmt=\".2f\", linewidths=0.5)\n",
        "plt.title(\"Correlation Matrix (Numeric Columns Only)\")\n",
        "plt.show()"
      ],
      "metadata": {
        "id": "V8lZMRCuEhVG",
        "colab": {
          "base_uri": "https://localhost:8080/"
        },
        "outputId": "42189a3c-adf3-42df-d71e-8a410a2ccdbc"
      },
      "execution_count": null,
      "outputs": [
        {
          "output_type": "display_data",
          "data": {
            "text/plain": [
              "<Figure size 2000x2000 with 2 Axes>"
            ],
            "image/png": "[encoded data removed]"
          },
          "metadata": {}
        }
      ]
    },
    {
      "cell_type": "markdown",
      "metadata": {
        "id": "lJSlv7hV9Ki0"
      },
      "source": [
        "# Model Training\n",
        "In this section, we are training a Random Forest model, XGboost classifier and logistic regression model able to detect malicious activity in a network of IoT devices."
      ]
    },
    {
      "cell_type": "code",
      "execution_count": null,
      "metadata": {
        "id": "ppCecjklV2pp",
        "colab": {
          "base_uri": "https://localhost:8080/",
          "height": 206
        },
        "outputId": "715ccc5f-a5d6-424c-c124-0784f0a48105"
      },
      "outputs": [
        {
          "output_type": "execute_result",
          "data": {
            "text/plain": [
              "             ts       uid  id.orig_h  id.orig_p  id.resp_h  id.resp_p  proto  \\\n",
              "0  1.545458e+09  11213415       8933    33602.0    1231494       23.0      1   \n",
              "1  1.532527e+09  22074121       8940    56675.0    8622471       23.0      1   \n",
              "2  1.545436e+09   7225562       8933    46128.0    3997292       23.0      1   \n",
              "3  1.532563e+09  19361674       8940     5135.0    3171459       23.0      1   \n",
              "4  1.569018e+09  19107733       8932    22747.0    4209073    62336.0      1   \n",
              "\n",
              "   conn_state  missed_bytes  orig_pkts  orig_ip_bytes  resp_pkts  \\\n",
              "0           6           0.0        3.0          180.0        0.0   \n",
              "1           6           0.0        1.0           40.0        0.0   \n",
              "2           6           0.0        1.0           60.0        0.0   \n",
              "3           6           0.0        1.0           40.0        0.0   \n",
              "4           0           0.0        0.0            0.0        0.0   \n",
              "\n",
              "   resp_ip_bytes  \n",
              "0            0.0  \n",
              "1            0.0  \n",
              "2            0.0  \n",
              "3            0.0  \n",
              "4            0.0  "
            ],
            "text/html": [
              "\n",
              "  <div id=\"df-53e1be9b-82a7-44c0-bc89-fa66001e75ca\" class=\"colab-df-container\">\n",
              "    <div>\n",
              "<style scoped>\n",
              "    .dataframe tbody tr th:only-of-type {\n",
              "        vertical-align: middle;\n",
              "    }\n",
              "\n",
              "    .dataframe tbody tr th {\n",
              "        vertical-align: top;\n",
              "    }\n",
              "\n",
              "    .dataframe thead th {\n",
              "        text-align: right;\n",
              "    }\n",
              "</style>\n",
              "<table border=\"1\" class=\"dataframe\">\n",
              "  <thead>\n",
              "    <tr style=\"text-align: right;\">\n",
              "      <th></th>\n",
              "      <th>ts</th>\n",
              "      <th>uid</th>\n",
              "      <th>id.orig_h</th>\n",
              "      <th>id.orig_p</th>\n",
              "      <th>id.resp_h</th>\n",
              "      <th>id.resp_p</th>\n",
              "      <th>proto</th>\n",
              "      <th>conn_state</th>\n",
              "      <th>missed_bytes</th>\n",
              "      <th>orig_pkts</th>\n",
              "      <th>orig_ip_bytes</th>\n",
              "      <th>resp_pkts</th>\n",
              "      <th>resp_ip_bytes</th>\n",
              "    </tr>\n",
              "  </thead>\n",
              "  <tbody>\n",
              "    <tr>\n",
              "      <th>0</th>\n",
              "      <td>1.545458e+09</td>\n",
              "      <td>11213415</td>\n",
              "      <td>8933</td>\n",
              "      <td>33602.0</td>\n",
              "      <td>1231494</td>\n",
              "      <td>23.0</td>\n",
              "      <td>1</td>\n",
              "      <td>6</td>\n",
              "      <td>0.0</td>\n",
              "      <td>3.0</td>\n",
              "      <td>180.0</td>\n",
              "      <td>0.0</td>\n",
              "      <td>0.0</td>\n",
              "    </tr>\n",
              "    <tr>\n",
              "      <th>1</th>\n",
              "      <td>1.532527e+09</td>\n",
              "      <td>22074121</td>\n",
              "      <td>8940</td>\n",
              "      <td>56675.0</td>\n",
              "      <td>8622471</td>\n",
              "      <td>23.0</td>\n",
              "      <td>1</td>\n",
              "      <td>6</td>\n",
              "      <td>0.0</td>\n",
              "      <td>1.0</td>\n",
              "      <td>40.0</td>\n",
              "      <td>0.0</td>\n",
              "      <td>0.0</td>\n",
              "    </tr>\n",
              "    <tr>\n",
              "      <th>2</th>\n",
              "      <td>1.545436e+09</td>\n",
              "      <td>7225562</td>\n",
              "      <td>8933</td>\n",
              "      <td>46128.0</td>\n",
              "      <td>3997292</td>\n",
              "      <td>23.0</td>\n",
              "      <td>1</td>\n",
              "      <td>6</td>\n",
              "      <td>0.0</td>\n",
              "      <td>1.0</td>\n",
              "      <td>60.0</td>\n",
              "      <td>0.0</td>\n",
              "      <td>0.0</td>\n",
              "    </tr>\n",
              "    <tr>\n",
              "      <th>3</th>\n",
              "      <td>1.532563e+09</td>\n",
              "      <td>19361674</td>\n",
              "      <td>8940</td>\n",
              "      <td>5135.0</td>\n",
              "      <td>3171459</td>\n",
              "      <td>23.0</td>\n",
              "      <td>1</td>\n",
              "      <td>6</td>\n",
              "      <td>0.0</td>\n",
              "      <td>1.0</td>\n",
              "      <td>40.0</td>\n",
              "      <td>0.0</td>\n",
              "      <td>0.0</td>\n",
              "    </tr>\n",
              "    <tr>\n",
              "      <th>4</th>\n",
              "      <td>1.569018e+09</td>\n",
              "      <td>19107733</td>\n",
              "      <td>8932</td>\n",
              "      <td>22747.0</td>\n",
              "      <td>4209073</td>\n",
              "      <td>62336.0</td>\n",
              "      <td>1</td>\n",
              "      <td>0</td>\n",
              "      <td>0.0</td>\n",
              "      <td>0.0</td>\n",
              "      <td>0.0</td>\n",
              "      <td>0.0</td>\n",
              "      <td>0.0</td>\n",
              "    </tr>\n",
              "  </tbody>\n",
              "</table>\n",
              "</div>\n",
              "    <div class=\"colab-df-buttons\">\n",
              "\n",
              "  <div class=\"colab-df-container\">\n",
              "    <button class=\"colab-df-convert\" onclick=\"convertToInteractive('df-53e1be9b-82a7-44c0-bc89-fa66001e75ca')\"\n",
              "            title=\"Convert this dataframe to an interactive table.\"\n",
              "            style=\"display:none;\">\n",
              "\n",
              "  <svg xmlns=\"http://www.w3.org/2000/svg\" height=\"24px\" viewBox=\"0 -960 960 960\">\n",
              "    <path d=\"M120-120v-720h720v720H120Zm60-500h600v-160H180v160Zm220 220h160v-160H400v160Zm0 220h160v-160H400v160ZM180-400h160v-160H180v160Zm440 0h160v-160H620v160ZM180-180h160v-160H180v160Zm440 0h160v-160H620v160Z\"/>\n",
              "  </svg>\n",
              "    </button>\n",
              "\n",
              "  <style>\n",
              "    .colab-df-container {\n",
              "      display:flex;\n",
              "      gap: 12px;\n",
              "    }\n",
              "\n",
              "    .colab-df-convert {\n",
              "      background-color: #E8F0FE;\n",
              "      border: none;\n",
              "      border-radius: 50%;\n",
              "      cursor: pointer;\n",
              "      display: none;\n",
              "      fill: #1967D2;\n",
              "      height: 32px;\n",
              "      padding: 0 0 0 0;\n",
              "      width: 32px;\n",
              "    }\n",
              "\n",
              "    .colab-df-convert:hover {\n",
              "      background-color: #E2EBFA;\n",
              "      box-shadow: 0px 1px 2px rgba(60, 64, 67, 0.3), 0px 1px 3px 1px rgba(60, 64, 67, 0.15);\n",
              "      fill: #174EA6;\n",
              "    }\n",
              "\n",
              "    .colab-df-buttons div {\n",
              "      margin-bottom: 4px;\n",
              "    }\n",
              "\n",
              "    [theme=dark] .colab-df-convert {\n",
              "      background-color: #3B4455;\n",
              "      fill: #D2E3FC;\n",
              "    }\n",
              "\n",
              "    [theme=dark] .colab-df-convert:hover {\n",
              "      background-color: #434B5C;\n",
              "      box-shadow: 0px 1px 3px 1px rgba(0, 0, 0, 0.15);\n",
              "      filter: drop-shadow(0px 1px 2px rgba(0, 0, 0, 0.3));\n",
              "      fill: #FFFFFF;\n",
              "    }\n",
              "  </style>\n",
              "\n",
              "    <script>\n",
              "      const buttonEl =\n",
              "        document.querySelector('#df-53e1be9b-82a7-44c0-bc89-fa66001e75ca button.colab-df-convert');\n",
              "      buttonEl.style.display =\n",
              "        google.colab.kernel.accessAllowed ? 'block' : 'none';\n",
              "\n",
              "      async function convertToInteractive(key) {\n",
              "        const element = document.querySelector('#df-53e1be9b-82a7-44c0-bc89-fa66001e75ca');\n",
              "        const dataTable =\n",
              "          await google.colab.kernel.invokeFunction('convertToInteractive',\n",
              "                                                    [key], {});\n",
              "        if (!dataTable) return;\n",
              "\n",
              "        const docLinkHtml = 'Like what you see? Visit the ' +\n",
              "          '<a target=\"_blank\" href=https://colab.research.google.com/notebooks/data_table.ipynb>data table notebook</a>'\n",
              "          + ' to learn more about interactive tables.';\n",
              "        element.innerHTML = '';\n",
              "        dataTable['output_type'] = 'display_data';\n",
              "        await google.colab.output.renderOutput(dataTable, element);\n",
              "        const docLink = document.createElement('div');\n",
              "        docLink.innerHTML = docLinkHtml;\n",
              "        element.appendChild(docLink);\n",
              "      }\n",
              "    </script>\n",
              "  </div>\n",
              "\n",
              "\n",
              "<div id=\"df-b654fa4c-7145-488c-9def-4adc47747893\">\n",
              "  <button class=\"colab-df-quickchart\" onclick=\"quickchart('df-b654fa4c-7145-488c-9def-4adc47747893')\"\n",
              "            title=\"Suggest charts\"\n",
              "            style=\"display:none;\">\n",
              "\n",
              "<svg xmlns=\"http://www.w3.org/2000/svg\" height=\"24px\"viewBox=\"0 0 24 24\"\n",
              "     width=\"24px\">\n",
              "    <g>\n",
              "        <path d=\"M19 3H5c-1.1 0-2 .9-2 2v14c0 1.1.9 2 2 2h14c1.1 0 2-.9 2-2V5c0-1.1-.9-2-2-2zM9 17H7v-7h2v7zm4 0h-2V7h2v10zm4 0h-2v-4h2v4z\"/>\n",
              "    </g>\n",
              "</svg>\n",
              "  </button>\n",
              "\n",
              "<style>\n",
              "  .colab-df-quickchart {\n",
              "      --bg-color: #E8F0FE;\n",
              "      --fill-color: #1967D2;\n",
              "      --hover-bg-color: #E2EBFA;\n",
              "      --hover-fill-color: #174EA6;\n",
              "      --disabled-fill-color: #AAA;\n",
              "      --disabled-bg-color: #DDD;\n",
              "  }\n",
              "\n",
              "  [theme=dark] .colab-df-quickchart {\n",
              "      --bg-color: #3B4455;\n",
              "      --fill-color: #D2E3FC;\n",
              "      --hover-bg-color: #434B5C;\n",
              "      --hover-fill-color: #FFFFFF;\n",
              "      --disabled-bg-color: #3B4455;\n",
              "      --disabled-fill-color: #666;\n",
              "  }\n",
              "\n",
              "  .colab-df-quickchart {\n",
              "    background-color: var(--bg-color);\n",
              "    border: none;\n",
              "    border-radius: 50%;\n",
              "    cursor: pointer;\n",
              "    display: none;\n",
              "    fill: var(--fill-color);\n",
              "    height: 32px;\n",
              "    padding: 0;\n",
              "    width: 32px;\n",
              "  }\n",
              "\n",
              "  .colab-df-quickchart:hover {\n",
              "    background-color: var(--hover-bg-color);\n",
              "    box-shadow: 0 1px 2px rgba(60, 64, 67, 0.3), 0 1px 3px 1px rgba(60, 64, 67, 0.15);\n",
              "    fill: var(--button-hover-fill-color);\n",
              "  }\n",
              "\n",
              "  .colab-df-quickchart-complete:disabled,\n",
              "  .colab-df-quickchart-complete:disabled:hover {\n",
              "    background-color: var(--disabled-bg-color);\n",
              "    fill: var(--disabled-fill-color);\n",
              "    box-shadow: none;\n",
              "  }\n",
              "\n",
              "  .colab-df-spinner {\n",
              "    border: 2px solid var(--fill-color);\n",
              "    border-color: transparent;\n",
              "    border-bottom-color: var(--fill-color);\n",
              "    animation:\n",
              "      spin 1s steps(1) infinite;\n",
              "  }\n",
              "\n",
              "  @keyframes spin {\n",
              "    0% {\n",
              "      border-color: transparent;\n",
              "      border-bottom-color: var(--fill-color);\n",
              "      border-left-color: var(--fill-color);\n",
              "    }\n",
              "    20% {\n",
              "      border-color: transparent;\n",
              "      border-left-color: var(--fill-color);\n",
              "      border-top-color: var(--fill-color);\n",
              "    }\n",
              "    30% {\n",
              "      border-color: transparent;\n",
              "      border-left-color: var(--fill-color);\n",
              "      border-top-color: var(--fill-color);\n",
              "      border-right-color: var(--fill-color);\n",
              "    }\n",
              "    40% {\n",
              "      border-color: transparent;\n",
              "      border-right-color: var(--fill-color);\n",
              "      border-top-color: var(--fill-color);\n",
              "    }\n",
              "    60% {\n",
              "      border-color: transparent;\n",
              "      border-right-color: var(--fill-color);\n",
              "    }\n",
              "    80% {\n",
              "      border-color: transparent;\n",
              "      border-right-color: var(--fill-color);\n",
              "      border-bottom-color: var(--fill-color);\n",
              "    }\n",
              "    90% {\n",
              "      border-color: transparent;\n",
              "      border-bottom-color: var(--fill-color);\n",
              "    }\n",
              "  }\n",
              "</style>\n",
              "\n",
              "  <script>\n",
              "    async function quickchart(key) {\n",
              "      const quickchartButtonEl =\n",
              "        document.querySelector('#' + key + ' button');\n",
              "      quickchartButtonEl.disabled = true;  // To prevent multiple clicks.\n",
              "      quickchartButtonEl.classList.add('colab-df-spinner');\n",
              "      try {\n",
              "        const charts = await google.colab.kernel.invokeFunction(\n",
              "            'suggestCharts', [key], {});\n",
              "      } catch (error) {\n",
              "        console.error('Error during call to suggestCharts:', error);\n",
              "      }\n",
              "      quickchartButtonEl.classList.remove('colab-df-spinner');\n",
              "      quickchartButtonEl.classList.add('colab-df-quickchart-complete');\n",
              "    }\n",
              "    (() => {\n",
              "      let quickchartButtonEl =\n",
              "        document.querySelector('#df-b654fa4c-7145-488c-9def-4adc47747893 button');\n",
              "      quickchartButtonEl.style.display =\n",
              "        google.colab.kernel.accessAllowed ? 'block' : 'none';\n",
              "    })();\n",
              "  </script>\n",
              "</div>\n",
              "\n",
              "    </div>\n",
              "  </div>\n"
            ],
            "application/vnd.google.colaboratory.intrinsic+json": {
              "type": "dataframe",
              "variable_name": "train_dataset"
            }
          },
          "metadata": {},
          "execution_count": 34
        }
      ],
      "source": [
        "# Separate the dataset into features (X) and target variable (Y)\n",
        "# train_dataset contains all features except 'label'\n",
        "# target contains the target \"label\" column\n",
        "train_dataset = iot_intrusion_dataset.drop(['label'], axis=1)\n",
        "train_dataset.head()"
      ]
    },
    {
      "cell_type": "code",
      "execution_count": null,
      "metadata": {
        "id": "gGU0ezcqV3wq"
      },
      "outputs": [],
      "source": [
        "target = iot_intrusion_dataset['label']"
      ]
    },
    {
      "cell_type": "code",
      "execution_count": null,
      "metadata": {
        "id": "s2FEhd6VV4BQ",
        "colab": {
          "base_uri": "https://localhost:8080/"
        },
        "outputId": "16b534d7-efb3-4ceb-f875-2cf39509e7ed"
      },
      "outputs": [
        {
          "output_type": "stream",
          "name": "stdout",
          "text": [
            "(19988288, 13)\n",
            "(4997072, 13)\n"
          ]
        }
      ],
      "source": [
        "#Split the train_dataset into train values and test values.\n",
        "scaler = StandardScaler()\n",
        "\n",
        "X_train, X_test, y_train, y_test = train_test_split(train_dataset, target, test_size=0.2, random_state=42)\n",
        "X_train = scaler.fit_transform(X_train)\n",
        "X_test = scaler.transform(X_test)\n",
        "\n",
        "print(X_train.shape)\n",
        "print(X_test.shape)"
      ]
    },
    {
      "cell_type": "code",
      "execution_count": null,
      "metadata": {
        "id": "E6fI5VUKp9cM",
        "colab": {
          "base_uri": "https://localhost:8080/"
        },
        "outputId": "4cbe5c8f-baf2-4207-d275-0e2324b2793e"
      },
      "outputs": [
        {
          "output_type": "execute_result",
          "data": {
            "text/plain": [
              "array([[-1.07600135e+00,  1.58540541e+00,  1.65057937e-02,\n",
              "        -7.09436744e-01,  7.55457761e-01, -4.36932971e-01,\n",
              "        -1.22988891e-01,  5.18684532e-01, -7.78083072e-04,\n",
              "        -6.74639195e-04, -7.68358156e-04, -1.70796626e-02,\n",
              "        -2.80450293e-03],\n",
              "       [-1.07513304e+00,  4.20625634e-02,  1.65057937e-02,\n",
              "        -2.26398611e+00,  3.36546547e-01, -4.36932971e-01,\n",
              "        -1.22988891e-01,  5.18684532e-01, -7.78083072e-04,\n",
              "        -6.74639195e-04, -7.68358156e-04, -1.70796626e-02,\n",
              "        -2.80450293e-03],\n",
              "       [-1.07130626e+00, -1.54943018e+00,  1.65057937e-02,\n",
              "        -1.43297990e+00,  1.17288529e+00, -4.36932971e-01,\n",
              "        -1.22988891e-01,  5.18684532e-01, -7.78083072e-04,\n",
              "        -6.74639195e-04, -7.68358156e-04, -1.70796626e-02,\n",
              "        -2.80450293e-03],\n",
              "       [ 1.65550047e-03,  2.81651239e-01, -1.86210111e-02,\n",
              "         1.16060676e+00, -4.15489737e-01, -4.36932971e-01,\n",
              "        -1.22988891e-01,  5.18684532e-01, -7.78083072e-04,\n",
              "        -5.67853585e-04, -5.43786037e-04, -1.70796626e-02,\n",
              "        -2.80450293e-03],\n",
              "       [ 2.28489368e-03, -7.18406774e-01, -1.86210111e-02,\n",
              "        -5.64889618e-01,  1.20893988e+00, -3.93244950e-01,\n",
              "        -1.22988891e-01, -8.49325551e-01, -7.78083072e-04,\n",
              "        -4.61067976e-04, -5.11704306e-04, -1.70796626e-02,\n",
              "        -2.80450293e-03]])"
            ]
          },
          "metadata": {},
          "execution_count": 37
        }
      ],
      "source": [
        "X_test[:5]\n"
      ]
    },
    {
      "cell_type": "code",
      "execution_count": null,
      "metadata": {
        "id": "-jlTn_1yqQ2q",
        "colab": {
          "base_uri": "https://localhost:8080/",
          "height": 240
        },
        "outputId": "b5fa2a26-86c8-4c17-b2e1-a6664d4d0796"
      },
      "outputs": [
        {
          "output_type": "execute_result",
          "data": {
            "text/plain": [
              "21684971    1\n",
              "11683419    1\n",
              "13845018    1\n",
              "14424130    0\n",
              "20191592    2\n",
              "Name: label, dtype: int64"
            ],
            "text/html": [
              "<div>\n",
              "<style scoped>\n",
              "    .dataframe tbody tr th:only-of-type {\n",
              "        vertical-align: middle;\n",
              "    }\n",
              "\n",
              "    .dataframe tbody tr th {\n",
              "        vertical-align: top;\n",
              "    }\n",
              "\n",
              "    .dataframe thead th {\n",
              "        text-align: right;\n",
              "    }\n",
              "</style>\n",
              "<table border=\"1\" class=\"dataframe\">\n",
              "  <thead>\n",
              "    <tr style=\"text-align: right;\">\n",
              "      <th></th>\n",
              "      <th>label</th>\n",
              "    </tr>\n",
              "  </thead>\n",
              "  <tbody>\n",
              "    <tr>\n",
              "      <th>21684971</th>\n",
              "      <td>1</td>\n",
              "    </tr>\n",
              "    <tr>\n",
              "      <th>11683419</th>\n",
              "      <td>1</td>\n",
              "    </tr>\n",
              "    <tr>\n",
              "      <th>13845018</th>\n",
              "      <td>1</td>\n",
              "    </tr>\n",
              "    <tr>\n",
              "      <th>14424130</th>\n",
              "      <td>0</td>\n",
              "    </tr>\n",
              "    <tr>\n",
              "      <th>20191592</th>\n",
              "      <td>2</td>\n",
              "    </tr>\n",
              "  </tbody>\n",
              "</table>\n",
              "</div><br><label><b>dtype:</b> int64</label>"
            ]
          },
          "metadata": {},
          "execution_count": 38
        }
      ],
      "source": [
        "y_test[:5]"
      ]
    },
    {
      "cell_type": "code",
      "execution_count": null,
      "metadata": {
        "id": "T5ICcgBcdyTz",
        "colab": {
          "base_uri": "https://localhost:8080/"
        },
        "outputId": "a34a6b62-3e5d-4013-ada0-ba64f60df645"
      },
      "outputs": [
        {
          "output_type": "stream",
          "name": "stdout",
          "text": [
            "Accuracy: 0.9998020841004492\n",
            "\n",
            "Classication Report: \n",
            "              precision    recall  f1-score   support\n",
            "\n",
            "           0     1.0000    0.9994    0.9997   1755451\n",
            "           1     0.9995    1.0000    0.9998   2084915\n",
            "           2     1.0000    1.0000    1.0000   1156706\n",
            "\n",
            "    accuracy                         0.9998   4997072\n",
            "   macro avg     0.9998    0.9998    0.9998   4997072\n",
            "weighted avg     0.9998    0.9998    0.9998   4997072\n",
            "\n"
          ]
        }
      ],
      "source": [
        "#Initiate an instance of Random Forest Classifier, forest_classifier.\n",
        "forest_classifier = RandomForestClassifier(n_estimators=50, random_state=42, max_depth=15)\n",
        "\n",
        "#Train the model on training set and evaluate on testing set.\n",
        "forest_classifier.fit(X_train, y_train)\n",
        "y_pred = forest_classifier.predict(X_test)\n",
        "\n",
        "#Compute and print performance metrics.\n",
        "accuracy = accuracy_score(y_test, y_pred)\n",
        "print(f\"Accuracy: {accuracy}\\n\")\n",
        "print(f\"Classication Report: \\n{classification_report(y_test, y_pred, digits=4)}\")"
      ]
    },
    {
      "cell_type": "code",
      "execution_count": null,
      "metadata": {
        "id": "IgIKcSLs04yd",
        "colab": {
          "base_uri": "https://localhost:8080/"
        },
        "outputId": "614245c4-ac19-4db5-de66-5ed29fed251d"
      },
      "outputs": [
        {
          "output_type": "stream",
          "name": "stdout",
          "text": [
            "Model saved successfully!\n"
          ]
        }
      ],
      "source": [
        "# Save the trained Random Forest model\n",
        "joblib.dump(forest_classifier, 'iot_detection_model.pkl')\n",
        "print(\"Model saved successfully!\")"
      ]
    },
    {
      "cell_type": "markdown",
      "metadata": {
        "id": "U4I4iCYb448U"
      },
      "source": [
        "# Integration of LLM Agent"
      ]
    },
    {
      "cell_type": "code",
      "source": [
        "#Load a client instance\n",
        "client = OpenAI(\n",
        "    api_key=os.environ.get(\"OPENAI_API_KEY\"),\n",
        ")"
      ],
      "metadata": {
        "id": "ZBYsSSztujEQ"
      },
      "execution_count": null,
      "outputs": []
    },
    {
      "cell_type": "code",
      "source": [
        "def generate_llm_response(messages):\n",
        "    response = client.chat.completions.create(\n",
        "        model=\"gpt-3.5-turbo\",\n",
        "        messages=messages\n",
        "    )\n",
        "    chatbot_response = response.choices[0].message.content\n",
        "    print(chatbot_response)"
      ],
      "metadata": {
        "id": "UuDvKKxkvx2W"
      },
      "execution_count": null,
      "outputs": []
    },
    {
      "cell_type": "code",
      "execution_count": null,
      "metadata": {
        "id": "sUUt8YKyMNGE"
      },
      "outputs": [],
      "source": [
        "def end_conversation():\n",
        "  end_conversation_message ={\n",
        "        \"role\": \"system\",\n",
        "        \"content\": \"Say Goodbye, and let them know they can reach out again if you need any help in the future.\"\n",
        "    }\n",
        "  messages = [end_conversation_message]\n",
        "  generate_llm_response(messages)"
      ]
    },
    {
      "cell_type": "code",
      "source": [
        "def ask_for_further_help():\n",
        "  while True:\n",
        "    user_input = input(\"\\nAgent: Is there anything else I can help you with? (yes/no): \")\n",
        "    if user_input.lower() in [\"yes\", \"sure\"]:\n",
        "      follow_up_input = input(\"\\nWhat else would you like help with? Please describe your issue: \")\n",
        "      assistant_message = [{\n",
        "              \"role\": \"system\",\n",
        "              \"content\": f\"User mentioned they need assistance with: '{follow_up_input}'. What specific information or help can I provide based on this?\"\n",
        "          }]\n",
        "      generate_llm_response(assistant_message)\n",
        "\n",
        "    elif user_input.lower() in [\"no\", \"thank you\", \"goodbye\", \"exit\"]:\n",
        "      #print(\"\\nAgent: Goodbye, and feel free to reach out again if you need any help in the future.\")\n",
        "      end_conversation()\n",
        "      break"
      ],
      "metadata": {
        "id": "Rty0pgP3woUK"
      },
      "execution_count": null,
      "outputs": []
    },
    {
      "cell_type": "code",
      "execution_count": null,
      "metadata": {
        "id": "4cRGa5GKBzk5"
      },
      "outputs": [],
      "source": [
        "def get_llm_insights(result, confidence_score):\n",
        "\n",
        "  system_message = {\n",
        "        \"role\": \"system\",\n",
        "        \"content\": f\"You are a network security analyst tasked with providing insights into IoT traffic in a home network to a homeowner. \"\n",
        "                   f\"Based on the machine learning model's prediction, the traffic from IoT device on the network is classified as {result} \"\n",
        "                   f\"where 0 is Normal, 1 is Malicious PartOfAHorizontalPortScan and 2 is Malicious DDoS with a confidence score of {confidence_score}. \"\n",
        "                   \"The model used the following features:\\n\"\n",
        "                   \"- Feature 1: ts, the timestamp of the connection event.\\n\"\n",
        "                   \"- Feature 2: uid, a unique identifier for the connection.\\n\"\n",
        "                   \"- Feature 3: id.orig_h, the source IP address.\\n\"\n",
        "                   \"- Feature 4: id.orig_p, the source port.\\n\"\n",
        "                   \"- Feature 5: id.resp_h, the destination IP address.\\n\"\n",
        "                   \"- Feature 6: id.resp_p, the destination port.\\n\"\n",
        "                   \"- Feature 7: proto, the network protocol used.\\n\"\n",
        "                   \"- Feature 8: conn_state, the state of the connection.\\n\"\n",
        "                   \"- Feature 9: missed_bytes, the number of missed bytes in the connection.\\n\"\n",
        "                   \"- Feature 10: orig_pkts, the number of packets sent from the source to the destination.\\n\"\n",
        "                   \"- Feature 11: orig_ip_bytes, the number of IP bytes sent from the source to the destination.\\n\"\n",
        "                   \"- Feature 12: resp_pkts, the number of packets sent from the destination to the source.\\n\"\n",
        "                   \"- Feature 13: resp_ip_bytes, the number of IP bytes sent from the destination to the source.\\n\"\n",
        "                   \"Can you provide an explanation or insights into this prediction?\"}\n",
        "\n",
        "  details_message ={\n",
        "      \"role\": \"user\",\n",
        "      \"content\": \"Provide brief details on the behavior detected on the network in simple terms without referring to the machine learning model.\"\n",
        "  }\n",
        "  messages = [system_message, details_message]\n",
        "  generate_llm_response(messages)\n",
        "\n",
        "  user_input = input(\"\\nAgent: Do you want recommendations on how to resolve this issue? (yes/no): \")\n",
        "  if user_input.lower() in [\"yes\", \"sure\"]:\n",
        "    recommendation_message = {\n",
        "            \"role\": \"user\",\n",
        "            \"content\": \"Yes, please provide top 3 recommendations and explain in simple terms for the home owner.\"\n",
        "        }\n",
        "    messages = [system_message, recommendation_message]\n",
        "    generate_llm_response(messages)\n",
        "    ask_for_further_help()\n",
        "  else:\n",
        "    ask_for_further_help()"
      ]
    },
    {
      "cell_type": "code",
      "execution_count": null,
      "metadata": {
        "id": "-MUomNS2BBEo",
        "colab": {
          "base_uri": "https://localhost:8080/"
        },
        "outputId": "dfd13fc7-f509-4bd1-efd7-4fb8d5875dc5"
      },
      "outputs": [
        {
          "output_type": "stream",
          "name": "stdout",
          "text": [
            "[2]\n",
            "Agent: Hello! I'm your network security assistant. Suspicious activity has been detected on the network and I'm here to help.\n",
            "The IoT device on your home network is exhibiting behavior consistent with a Distributed Denial of Service (DDoS) attack with a high level of confidence. This means that the device is likely being used to flood a target server or website with a large volume of traffic, making it unavailable to legitimate users. It is important to investigate and take actions to mitigate this malicious activity to protect your network and connected devices.\n",
            "\n",
            "Agent: Do you want recommendations on how to resolve this issue? (yes/no): yes\n",
            "Sure! Here are the top 3 recommendations along with simple explanations for the homeowner based on the prediction of malicious DDoS traffic from an IoT device on the home network:\n",
            "\n",
            "1. **Identify and isolate the IoT device**: Look for any IoT devices that might be behaving suspiciously or consuming a lot of network resources. Once identified, isolate the device from the network to prevent further potential attacks.\n",
            "\n",
            "   - **Explanation**: By finding and disconnecting the problematic IoT device, we can stop it from participating in the DDoS attack and protect our network from being overwhelmed with malicious traffic.\n",
            "\n",
            "2. **Update device firmware**: Make sure that all IoT devices on the network have the latest firmware updates installed to patch any known security vulnerabilities that could be exploited by attackers.\n",
            "\n",
            "   - **Explanation**: Just like updating software on your computer or phone, keeping IoT device firmware up to date can help prevent attackers from taking advantage of known security weaknesses.\n",
            "\n",
            "3. **Implement network monitoring**: Set up network monitoring tools or services to keep an eye on network traffic for any unusual patterns that could indicate another DDoS attack or potential security threats.\n",
            "\n",
            "   - **Explanation**: By monitoring network traffic, we can quickly detect and respond to any suspicious activities or attacks on our home network, helping to maintain a secure and stable connection for all devices.\n",
            "\n",
            "Following these recommendations can help the homeowner better protect their home network from malicious IoT devices and potential DDoS attacks.\n",
            "\n",
            "Agent: Is there anything else I can help you with? (yes/no): yes\n",
            "\n",
            "What else would you like help with? Please describe your issue: how to isolate device from network\n",
            "To help you isolate a device from a network, I can provide guidance on the following steps:\n",
            "\n",
            "1. Disconnecting the device physically from the network: Unplugging the network cable or turning off the wireless connection on the device will prevent it from communicating with other devices on the network.\n",
            "\n",
            "2. Assigning a separate VLAN: If your network supports VLANs (Virtual Local Area Networks), you can configure a separate VLAN for the device you want to isolate. This will segment the device from the rest of the network.\n",
            "\n",
            "3. Configuring firewall rules: You can set up firewall rules on your network router or firewall to block all incoming and outgoing traffic to/from the specific device.\n",
            "\n",
            "4. Using network access control (NAC): Implementing NAC solutions can help enforce policies that restrict or allow network access based on specific criteria, such as device identity or security posture.\n",
            "\n",
            "Please let me know if you would like more details on any of these methods or if you need further assistance with the isolation process.\n",
            "\n",
            "Agent: Is there anything else I can help you with? (yes/no): no\n",
            "Goodbye! Feel free to reach out again if you need any help in the future. Have a great day!\n"
          ]
        }
      ],
      "source": [
        "#Load the intrusion detection model\n",
        "detection_model = joblib.load('iot_detection_model.pkl')\n",
        "\n",
        "#Make predictions on new data\n",
        "data_sample = [[2.17727140e-03, -9.72114052e-01, -1.84613743e-02,\n",
        "        -1.53322810e+00,  1.20889079e+00, -3.93404677e-01,\n",
        "        -1.22941497e-01, -8.48923118e-01, -2.23680995e-04,\n",
        "        -5.78956723e-04, -6.58342430e-04, -1.70883811e-02,\n",
        "        -3.09063709e-03]]\n",
        "prediction = detection_model.predict(data_sample)\n",
        "confidence_scores = detection_model.predict_proba(data_sample)\n",
        "predicted_label = prediction[0]\n",
        "print(prediction)\n",
        "prediction_confidence_score = confidence_scores[0][predicted_label]\n",
        "if predicted_label == 1 or predicted_label == 2:\n",
        "  print(\"Agent: Hello! I'm your network security assistant. Suspicious activity has been detected on the network and I'm here to help.\")\n",
        "  llm_insights = get_llm_insights(predicted_label, prediction_confidence_score)\n",
        "else:\n",
        "   print(\"Agent: Normal traffic behavior on the network. No LLM insights required.\")"
      ]
    }
  ],
  "metadata": {
    "accelerator": "TPU",
    "colab": {
      "collapsed_sections": [
        "i8Ce0ap-jOvi",
        "50F45QM16Cvu",
        "KeJFuzIrLTqJ",
        "DIWHHoec9FM1",
        "lJSlv7hV9Ki0"
      ],
      "gpuType": "V28",
      "provenance": []
    },
    "kernelspec": {
      "display_name": "Python 3",
      "name": "python3"
    },
    "language_info": {
      "name": "python"
    }
  },
  "nbformat": 4,
  "nbformat_minor": 0
}